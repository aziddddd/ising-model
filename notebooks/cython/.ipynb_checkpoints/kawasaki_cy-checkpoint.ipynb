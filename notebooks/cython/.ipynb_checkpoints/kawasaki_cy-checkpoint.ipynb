{
 "cells": [
  {
   "cell_type": "markdown",
   "metadata": {},
   "source": [
    "\n",
    "#### Import required packages"
   ]
  },
  {
   "cell_type": "code",
   "execution_count": 1,
   "metadata": {
    "scrolled": true
   },
   "outputs": [],
   "source": [
    "from __future__ import division\n",
    "import pyximport\n",
    "import numpy as np\n",
    "pyximport.install(setup_args={\n",
    "                              \"script_args\":[\"--compiler=mingw32\"],   #comment this if u use docker-compose\n",
    "                              \"include_dirs\":np.get_include()\n",
    "                            },\n",
    "                  language_level=3,\n",
    "                  reload_support=True)\n",
    "import im_utils_cy                           # cythonized python module\n",
    "# import im_utils                            # unoptimized python module\n",
    "import matplotlib.pyplot as plt"
   ]
  },
  {
   "cell_type": "code",
   "execution_count": 2,
   "metadata": {},
   "outputs": [],
   "source": [
    "plt.rcParams['figure.figsize'] = (10,10)"
   ]
  },
  {
   "cell_type": "markdown",
   "metadata": {},
   "source": [
    "#### Initialisation"
   ]
  },
  {
   "cell_type": "code",
   "execution_count": 3,
   "metadata": {},
   "outputs": [],
   "source": [
    "N           = 50                             # system size\n",
    "temp        = 0.1                            # temp\n",
    "method      = 'kawasaki'                     # glauber or kawasaki\n",
    "temp_point  = 20                             # no. of points for analyse plot\n",
    "temp_range  = (1.5, 3.3)                     # temperature plotting range\n",
    "equistep    = 1000                           # equilibrate sweep\n",
    "calcstep    = 10000                          # measurement sweep\n",
    "factor      = int(calcstep/10)               # because of 'if (j%10 == 0):' in 'analyse' fn"
   ]
  },
  {
   "cell_type": "markdown",
   "metadata": {},
   "source": [
    "#### Methods"
   ]
  },
  {
   "cell_type": "code",
   "execution_count": 4,
   "metadata": {},
   "outputs": [],
   "source": [
    "ising_model = im_utils_cy.Ising(N, factor, temp, method, temp_point, temp_range, equistep, calcstep)"
   ]
  },
  {
   "cell_type": "markdown",
   "metadata": {},
   "source": [
    "#### Results"
   ]
  },
  {
   "cell_type": "markdown",
   "metadata": {},
   "source": [
    "- Snapshots"
   ]
  },
  {
   "cell_type": "code",
   "execution_count": 5,
   "metadata": {
    "scrolled": false
   },
   "outputs": [
    {
     "data": {
      "application/vnd.jupyter.widget-view+json": {
       "model_id": "fb3378229e2d4a5c8bae94c55b5da78d",
       "version_major": 2,
       "version_minor": 0
      },
      "text/plain": [
       "HBox(children=(IntProgress(value=0, max=1000), HTML(value='')))"
      ]
     },
     "metadata": {},
     "output_type": "display_data"
    },
    {
     "name": "stdout",
     "output_type": "stream",
     "text": [
      "\n"
     ]
    },
    {
     "data": {
      "image/png": "[encoded data removed]",
      "text/plain": [
       "<Figure size 720x720 with 6 Axes>"
      ]
     },
     "metadata": {},
     "output_type": "display_data"
    }
   ],
   "source": [
    "ising_model.snapshots(1000)"
   ]
  },
  {
   "cell_type": "markdown",
   "metadata": {},
   "source": [
    "- Animation"
   ]
  },
  {
   "cell_type": "code",
   "execution_count": 6,
   "metadata": {},
   "outputs": [
    {
     "data": {
      "image/png": "[encoded data removed]",
      "text/plain": [
       "<Figure size 400x400 with 1 Axes>"
      ]
     },
     "metadata": {},
     "output_type": "display_data"
    }
   ],
   "source": [
    "ising_model.DynamicPlot(100)"
   ]
  },
  {
   "cell_type": "markdown",
   "metadata": {},
   "source": [
    "- Method behavior\n",
    "    - Energy\n",
    "    - Magnetisation\n",
    "    - Susceptibility\n",
    "    - Heat Capacity"
   ]
  },
  {
   "cell_type": "code",
   "execution_count": 6,
   "metadata": {},
   "outputs": [
    {
     "data": {
      "application/vnd.jupyter.widget-view+json": {
       "model_id": "de407b1905ed4dc1984922247bcd53ad",
       "version_major": 2,
       "version_minor": 0
      },
      "text/plain": [
       "HBox(children=(IntProgress(value=0, description='Temp point', max=20, style=ProgressStyle(description_width='i…"
      ]
     },
     "metadata": {},
     "output_type": "display_data"
    },
    {
     "data": {
      "application/vnd.jupyter.widget-view+json": {
       "model_id": "",
       "version_major": 2,
       "version_minor": 0
      },
      "text/plain": [
       "HBox(children=(IntProgress(value=0, description='Equilibrate sweep', max=1000, style=ProgressStyle(description…"
      ]
     },
     "metadata": {},
     "output_type": "display_data"
    },
    {
     "data": {
      "application/vnd.jupyter.widget-view+json": {
       "model_id": "",
       "version_major": 2,
       "version_minor": 0
      },
      "text/plain": [
       "HBox(children=(IntProgress(value=0, description='Measurement sweep', max=10000, style=ProgressStyle(descriptio…"
      ]
     },
     "metadata": {},
     "output_type": "display_data"
    },
    {
     "data": {
      "application/vnd.jupyter.widget-view+json": {
       "model_id": "",
       "version_major": 2,
       "version_minor": 0
      },
      "text/plain": [
       "HBox(children=(IntProgress(value=0, description='Equilibrate sweep', max=1000, style=ProgressStyle(description…"
      ]
     },
     "metadata": {},
     "output_type": "display_data"
    },
    {
     "data": {
      "application/vnd.jupyter.widget-view+json": {
       "model_id": "",
       "version_major": 2,
       "version_minor": 0
      },
      "text/plain": [
       "HBox(children=(IntProgress(value=0, description='Measurement sweep', max=10000, style=ProgressStyle(descriptio…"
      ]
     },
     "metadata": {},
     "output_type": "display_data"
    },
    {
     "data": {
      "application/vnd.jupyter.widget-view+json": {
       "model_id": "",
       "version_major": 2,
       "version_minor": 0
      },
      "text/plain": [
       "HBox(children=(IntProgress(value=0, description='Equilibrate sweep', max=1000, style=ProgressStyle(description…"
      ]
     },
     "metadata": {},
     "output_type": "display_data"
    },
    {
     "data": {
      "application/vnd.jupyter.widget-view+json": {
       "model_id": "",
       "version_major": 2,
       "version_minor": 0
      },
      "text/plain": [
       "HBox(children=(IntProgress(value=0, description='Measurement sweep', max=10000, style=ProgressStyle(descriptio…"
      ]
     },
     "metadata": {},
     "output_type": "display_data"
    },
    {
     "data": {
      "application/vnd.jupyter.widget-view+json": {
       "model_id": "",
       "version_major": 2,
       "version_minor": 0
      },
      "text/plain": [
       "HBox(children=(IntProgress(value=0, description='Equilibrate sweep', max=1000, style=ProgressStyle(description…"
      ]
     },
     "metadata": {},
     "output_type": "display_data"
    },
    {
     "data": {
      "application/vnd.jupyter.widget-view+json": {
       "model_id": "",
       "version_major": 2,
       "version_minor": 0
      },
      "text/plain": [
       "HBox(children=(IntProgress(value=0, description='Measurement sweep', max=10000, style=ProgressStyle(descriptio…"
      ]
     },
     "metadata": {},
     "output_type": "display_data"
    },
    {
     "data": {
      "application/vnd.jupyter.widget-view+json": {
       "model_id": "",
       "version_major": 2,
       "version_minor": 0
      },
      "text/plain": [
       "HBox(children=(IntProgress(value=0, description='Equilibrate sweep', max=1000, style=ProgressStyle(description…"
      ]
     },
     "metadata": {},
     "output_type": "display_data"
    },
    {
     "data": {
      "application/vnd.jupyter.widget-view+json": {
       "model_id": "",
       "version_major": 2,
       "version_minor": 0
      },
      "text/plain": [
       "HBox(children=(IntProgress(value=0, description='Measurement sweep', max=10000, style=ProgressStyle(descriptio…"
      ]
     },
     "metadata": {},
     "output_type": "display_data"
    },
    {
     "data": {
      "application/vnd.jupyter.widget-view+json": {
       "model_id": "",
       "version_major": 2,
       "version_minor": 0
      },
      "text/plain": [
       "HBox(children=(IntProgress(value=0, description='Equilibrate sweep', max=1000, style=ProgressStyle(description…"
      ]
     },
     "metadata": {},
     "output_type": "display_data"
    },
    {
     "data": {
      "application/vnd.jupyter.widget-view+json": {
       "model_id": "",
       "version_major": 2,
       "version_minor": 0
      },
      "text/plain": [
       "HBox(children=(IntProgress(value=0, description='Measurement sweep', max=10000, style=ProgressStyle(descriptio…"
      ]
     },
     "metadata": {},
     "output_type": "display_data"
    },
    {
     "data": {
      "application/vnd.jupyter.widget-view+json": {
       "model_id": "",
       "version_major": 2,
       "version_minor": 0
      },
      "text/plain": [
       "HBox(children=(IntProgress(value=0, description='Equilibrate sweep', max=1000, style=ProgressStyle(description…"
      ]
     },
     "metadata": {},
     "output_type": "display_data"
    },
    {
     "data": {
      "application/vnd.jupyter.widget-view+json": {
       "model_id": "",
       "version_major": 2,
       "version_minor": 0
      },
      "text/plain": [
       "HBox(children=(IntProgress(value=0, description='Measurement sweep', max=10000, style=ProgressStyle(descriptio…"
      ]
     },
     "metadata": {},
     "output_type": "display_data"
    },
    {
     "data": {
      "application/vnd.jupyter.widget-view+json": {
       "model_id": "",
       "version_major": 2,
       "version_minor": 0
      },
      "text/plain": [
       "HBox(children=(IntProgress(value=0, description='Equilibrate sweep', max=1000, style=ProgressStyle(description…"
      ]
     },
     "metadata": {},
     "output_type": "display_data"
    },
    {
     "data": {
      "application/vnd.jupyter.widget-view+json": {
       "model_id": "",
       "version_major": 2,
       "version_minor": 0
      },
      "text/plain": [
       "HBox(children=(IntProgress(value=0, description='Measurement sweep', max=10000, style=ProgressStyle(descriptio…"
      ]
     },
     "metadata": {},
     "output_type": "display_data"
    },
    {
     "data": {
      "application/vnd.jupyter.widget-view+json": {
       "model_id": "",
       "version_major": 2,
       "version_minor": 0
      },
      "text/plain": [
       "HBox(children=(IntProgress(value=0, description='Equilibrate sweep', max=1000, style=ProgressStyle(description…"
      ]
     },
     "metadata": {},
     "output_type": "display_data"
    },
    {
     "data": {
      "application/vnd.jupyter.widget-view+json": {
       "model_id": "",
       "version_major": 2,
       "version_minor": 0
      },
      "text/plain": [
       "HBox(children=(IntProgress(value=0, description='Measurement sweep', max=10000, style=ProgressStyle(descriptio…"
      ]
     },
     "metadata": {},
     "output_type": "display_data"
    },
    {
     "data": {
      "application/vnd.jupyter.widget-view+json": {
       "model_id": "",
       "version_major": 2,
       "version_minor": 0
      },
      "text/plain": [
       "HBox(children=(IntProgress(value=0, description='Equilibrate sweep', max=1000, style=ProgressStyle(description…"
      ]
     },
     "metadata": {},
     "output_type": "display_data"
    },
    {
     "data": {
      "application/vnd.jupyter.widget-view+json": {
       "model_id": "",
       "version_major": 2,
       "version_minor": 0
      },
      "text/plain": [
       "HBox(children=(IntProgress(value=0, description='Measurement sweep', max=10000, style=ProgressStyle(descriptio…"
      ]
     },
     "metadata": {},
     "output_type": "display_data"
    },
    {
     "data": {
      "application/vnd.jupyter.widget-view+json": {
       "model_id": "",
       "version_major": 2,
       "version_minor": 0
      },
      "text/plain": [
       "HBox(children=(IntProgress(value=0, description='Equilibrate sweep', max=1000, style=ProgressStyle(description…"
      ]
     },
     "metadata": {},
     "output_type": "display_data"
    },
    {
     "data": {
      "application/vnd.jupyter.widget-view+json": {
       "model_id": "",
       "version_major": 2,
       "version_minor": 0
      },
      "text/plain": [
       "HBox(children=(IntProgress(value=0, description='Measurement sweep', max=10000, style=ProgressStyle(descriptio…"
      ]
     },
     "metadata": {},
     "output_type": "display_data"
    },
    {
     "data": {
      "application/vnd.jupyter.widget-view+json": {
       "model_id": "",
       "version_major": 2,
       "version_minor": 0
      },
      "text/plain": [
       "HBox(children=(IntProgress(value=0, description='Equilibrate sweep', max=1000, style=ProgressStyle(description…"
      ]
     },
     "metadata": {},
     "output_type": "display_data"
    },
    {
     "data": {
      "application/vnd.jupyter.widget-view+json": {
       "model_id": "",
       "version_major": 2,
       "version_minor": 0
      },
      "text/plain": [
       "HBox(children=(IntProgress(value=0, description='Measurement sweep', max=10000, style=ProgressStyle(descriptio…"
      ]
     },
     "metadata": {},
     "output_type": "display_data"
    },
    {
     "data": {
      "application/vnd.jupyter.widget-view+json": {
       "model_id": "",
       "version_major": 2,
       "version_minor": 0
      },
      "text/plain": [
       "HBox(children=(IntProgress(value=0, description='Equilibrate sweep', max=1000, style=ProgressStyle(description…"
      ]
     },
     "metadata": {},
     "output_type": "display_data"
    },
    {
     "data": {
      "application/vnd.jupyter.widget-view+json": {
       "model_id": "",
       "version_major": 2,
       "version_minor": 0
      },
      "text/plain": [
       "HBox(children=(IntProgress(value=0, description='Measurement sweep', max=10000, style=ProgressStyle(descriptio…"
      ]
     },
     "metadata": {},
     "output_type": "display_data"
    },
    {
     "data": {
      "application/vnd.jupyter.widget-view+json": {
       "model_id": "",
       "version_major": 2,
       "version_minor": 0
      },
      "text/plain": [
       "HBox(children=(IntProgress(value=0, description='Equilibrate sweep', max=1000, style=ProgressStyle(description…"
      ]
     },
     "metadata": {},
     "output_type": "display_data"
    },
    {
     "data": {
      "application/vnd.jupyter.widget-view+json": {
       "model_id": "",
       "version_major": 2,
       "version_minor": 0
      },
      "text/plain": [
       "HBox(children=(IntProgress(value=0, description='Measurement sweep', max=10000, style=ProgressStyle(descriptio…"
      ]
     },
     "metadata": {},
     "output_type": "display_data"
    },
    {
     "data": {
      "application/vnd.jupyter.widget-view+json": {
       "model_id": "",
       "version_major": 2,
       "version_minor": 0
      },
      "text/plain": [
       "HBox(children=(IntProgress(value=0, description='Equilibrate sweep', max=1000, style=ProgressStyle(description…"
      ]
     },
     "metadata": {},
     "output_type": "display_data"
    },
    {
     "data": {
      "application/vnd.jupyter.widget-view+json": {
       "model_id": "",
       "version_major": 2,
       "version_minor": 0
      },
      "text/plain": [
       "HBox(children=(IntProgress(value=0, description='Measurement sweep', max=10000, style=ProgressStyle(descriptio…"
      ]
     },
     "metadata": {},
     "output_type": "display_data"
    },
    {
     "data": {
      "application/vnd.jupyter.widget-view+json": {
       "model_id": "",
       "version_major": 2,
       "version_minor": 0
      },
      "text/plain": [
       "HBox(children=(IntProgress(value=0, description='Equilibrate sweep', max=1000, style=ProgressStyle(description…"
      ]
     },
     "metadata": {},
     "output_type": "display_data"
    },
    {
     "data": {
      "application/vnd.jupyter.widget-view+json": {
       "model_id": "",
       "version_major": 2,
       "version_minor": 0
      },
      "text/plain": [
       "HBox(children=(IntProgress(value=0, description='Measurement sweep', max=10000, style=ProgressStyle(descriptio…"
      ]
     },
     "metadata": {},
     "output_type": "display_data"
    },
    {
     "data": {
      "application/vnd.jupyter.widget-view+json": {
       "model_id": "",
       "version_major": 2,
       "version_minor": 0
      },
      "text/plain": [
       "HBox(children=(IntProgress(value=0, description='Equilibrate sweep', max=1000, style=ProgressStyle(description…"
      ]
     },
     "metadata": {},
     "output_type": "display_data"
    },
    {
     "data": {
      "application/vnd.jupyter.widget-view+json": {
       "model_id": "",
       "version_major": 2,
       "version_minor": 0
      },
      "text/plain": [
       "HBox(children=(IntProgress(value=0, description='Measurement sweep', max=10000, style=ProgressStyle(descriptio…"
      ]
     },
     "metadata": {},
     "output_type": "display_data"
    },
    {
     "data": {
      "application/vnd.jupyter.widget-view+json": {
       "model_id": "",
       "version_major": 2,
       "version_minor": 0
      },
      "text/plain": [
       "HBox(children=(IntProgress(value=0, description='Equilibrate sweep', max=1000, style=ProgressStyle(description…"
      ]
     },
     "metadata": {},
     "output_type": "display_data"
    },
    {
     "data": {
      "application/vnd.jupyter.widget-view+json": {
       "model_id": "",
       "version_major": 2,
       "version_minor": 0
      },
      "text/plain": [
       "HBox(children=(IntProgress(value=0, description='Measurement sweep', max=10000, style=ProgressStyle(descriptio…"
      ]
     },
     "metadata": {},
     "output_type": "display_data"
    },
    {
     "data": {
      "application/vnd.jupyter.widget-view+json": {
       "model_id": "",
       "version_major": 2,
       "version_minor": 0
      },
      "text/plain": [
       "HBox(children=(IntProgress(value=0, description='Equilibrate sweep', max=1000, style=ProgressStyle(description…"
      ]
     },
     "metadata": {},
     "output_type": "display_data"
    },
    {
     "data": {
      "application/vnd.jupyter.widget-view+json": {
       "model_id": "",
       "version_major": 2,
       "version_minor": 0
      },
      "text/plain": [
       "HBox(children=(IntProgress(value=0, description='Measurement sweep', max=10000, style=ProgressStyle(descriptio…"
      ]
     },
     "metadata": {},
     "output_type": "display_data"
    },
    {
     "data": {
      "application/vnd.jupyter.widget-view+json": {
       "model_id": "",
       "version_major": 2,
       "version_minor": 0
      },
      "text/plain": [
       "HBox(children=(IntProgress(value=0, description='Equilibrate sweep', max=1000, style=ProgressStyle(description…"
      ]
     },
     "metadata": {},
     "output_type": "display_data"
    },
    {
     "data": {
      "application/vnd.jupyter.widget-view+json": {
       "model_id": "",
       "version_major": 2,
       "version_minor": 0
      },
      "text/plain": [
       "HBox(children=(IntProgress(value=0, description='Measurement sweep', max=10000, style=ProgressStyle(descriptio…"
      ]
     },
     "metadata": {},
     "output_type": "display_data"
    },
    {
     "name": "stdout",
     "output_type": "stream",
     "text": [
      "\n"
     ]
    },
    {
     "data": {
      "application/javascript": [
       "/* Put everything inside the global mpl namespace */\n",
       "window.mpl = {};\n",
       "\n",
       "\n",
       "mpl.get_websocket_type = function() {\n",
       "    if (typeof(WebSocket) !== 'undefined') {\n",
       "        return WebSocket;\n",
       "    } else if (typeof(MozWebSocket) !== 'undefined') {\n",
       "        return MozWebSocket;\n",
       "    } else {\n",
       "        alert('Your browser does not have WebSocket support.' +\n",
       "              'Please try Chrome, Safari or Firefox ≥ 6. ' +\n",
       "              'Firefox 4 and 5 are also supported but you ' +\n",
       "              'have to enable WebSockets in about:config.');\n",
       "    };\n",
       "}\n",
       "\n",
       "mpl.figure = function(figure_id, websocket, ondownload, parent_element) {\n",
       "    this.id = figure_id;\n",
       "\n",
       "    this.ws = websocket;\n",
       "\n",
       "    this.supports_binary = (this.ws.binaryType != undefined);\n",
       "\n",
       "    if (!this.supports_binary) {\n",
       "        var warnings = document.getElementById(\"mpl-warnings\");\n",
       "        if (warnings) {\n",
       "            warnings.style.display = 'block';\n",
       "            warnings.textContent = (\n",
       "                \"This browser does not support binary websocket messages. \" +\n",
       "                    \"Performance may be slow.\");\n",
       "        }\n",
       "    }\n",
       "\n",
       "    this.imageObj = new Image();\n",
       "\n",
       "    this.context = undefined;\n",
       "    this.message = undefined;\n",
       "    this.canvas = undefined;\n",
       "    this.rubberband_canvas = undefined;\n",
       "    this.rubberband_context = undefined;\n",
       "    this.format_dropdown = undefined;\n",
       "\n",
       "    this.image_mode = 'full';\n",
       "\n",
       "    this.root = $('<div/>');\n",
       "    this._root_extra_style(this.root)\n",
       "    this.root.attr('style', 'display: inline-block');\n",
       "\n",
       "    $(parent_element).append(this.root);\n",
       "\n",
       "    this._init_header(this);\n",
       "    this._init_canvas(this);\n",
       "    this._init_toolbar(this);\n",
       "\n",
       "    var fig = this;\n",
       "\n",
       "    this.waiting = false;\n",
       "\n",
       "    this.ws.onopen =  function () {\n",
       "            fig.send_message(\"supports_binary\", {value: fig.supports_binary});\n",
       "            fig.send_message(\"send_image_mode\", {});\n",
       "            if (mpl.ratio != 1) {\n",
       "                fig.send_message(\"set_dpi_ratio\", {'dpi_ratio': mpl.ratio});\n",
       "            }\n",
       "            fig.send_message(\"refresh\", {});\n",
       "        }\n",
       "\n",
       "    this.imageObj.onload = function() {\n",
       "            if (fig.image_mode == 'full') {\n",
       "                // Full images could contain transparency (where diff images\n",
       "                // almost always do), so we need to clear the canvas so that\n",
       "                // there is no ghosting.\n",
       "                fig.context.clearRect(0, 0, fig.canvas.width, fig.canvas.height);\n",
       "            }\n",
       "            fig.context.drawImage(fig.imageObj, 0, 0);\n",
       "        };\n",
       "\n",
       "    this.imageObj.onunload = function() {\n",
       "        fig.ws.close();\n",
       "    }\n",
       "\n",
       "    this.ws.onmessage = this._make_on_message_function(this);\n",
       "\n",
       "    this.ondownload = ondownload;\n",
       "}\n",
       "\n",
       "mpl.figure.prototype._init_header = function() {\n",
       "    var titlebar = $(\n",
       "        '<div class=\"ui-dialog-titlebar ui-widget-header ui-corner-all ' +\n",
       "        'ui-helper-clearfix\"/>');\n",
       "    var titletext = $(\n",
       "        '<div class=\"ui-dialog-title\" style=\"width: 100%; ' +\n",
       "        'text-align: center; padding: 3px;\"/>');\n",
       "    titlebar.append(titletext)\n",
       "    this.root.append(titlebar);\n",
       "    this.header = titletext[0];\n",
       "}\n",
       "\n",
       "\n",
       "\n",
       "mpl.figure.prototype._canvas_extra_style = function(canvas_div) {\n",
       "\n",
       "}\n",
       "\n",
       "\n",
       "mpl.figure.prototype._root_extra_style = function(canvas_div) {\n",
       "\n",
       "}\n",
       "\n",
       "mpl.figure.prototype._init_canvas = function() {\n",
       "    var fig = this;\n",
       "\n",
       "    var canvas_div = $('<div/>');\n",
       "\n",
       "    canvas_div.attr('style', 'position: relative; clear: both; outline: 0');\n",
       "\n",
       "    function canvas_keyboard_event(event) {\n",
       "        return fig.key_event(event, event['data']);\n",
       "    }\n",
       "\n",
       "    canvas_div.keydown('key_press', canvas_keyboard_event);\n",
       "    canvas_div.keyup('key_release', canvas_keyboard_event);\n",
       "    this.canvas_div = canvas_div\n",
       "    this._canvas_extra_style(canvas_div)\n",
       "    this.root.append(canvas_div);\n",
       "\n",
       "    var canvas = $('<canvas/>');\n",
       "    canvas.addClass('mpl-canvas');\n",
       "    canvas.attr('style', \"left: 0; top: 0; z-index: 0; outline: 0\")\n",
       "\n",
       "    this.canvas = canvas[0];\n",
       "    this.context = canvas[0].getContext(\"2d\");\n",
       "\n",
       "    var backingStore = this.context.backingStorePixelRatio ||\n",
       "\tthis.context.webkitBackingStorePixelRatio ||\n",
       "\tthis.context.mozBackingStorePixelRatio ||\n",
       "\tthis.context.msBackingStorePixelRatio ||\n",
       "\tthis.context.oBackingStorePixelRatio ||\n",
       "\tthis.context.backingStorePixelRatio || 1;\n",
       "\n",
       "    mpl.ratio = (window.devicePixelRatio || 1) / backingStore;\n",
       "\n",
       "    var rubberband = $('<canvas/>');\n",
       "    rubberband.attr('style', \"position: absolute; left: 0; top: 0; z-index: 1;\")\n",
       "\n",
       "    var pass_mouse_events = true;\n",
       "\n",
       "    canvas_div.resizable({\n",
       "        start: function(event, ui) {\n",
       "            pass_mouse_events = false;\n",
       "        },\n",
       "        resize: function(event, ui) {\n",
       "            fig.request_resize(ui.size.width, ui.size.height);\n",
       "        },\n",
       "        stop: function(event, ui) {\n",
       "            pass_mouse_events = true;\n",
       "            fig.request_resize(ui.size.width, ui.size.height);\n",
       "        },\n",
       "    });\n",
       "\n",
       "    function mouse_event_fn(event) {\n",
       "        if (pass_mouse_events)\n",
       "            return fig.mouse_event(event, event['data']);\n",
       "    }\n",
       "\n",
       "    rubberband.mousedown('button_press', mouse_event_fn);\n",
       "    rubberband.mouseup('button_release', mouse_event_fn);\n",
       "    // Throttle sequential mouse events to 1 every 20ms.\n",
       "    rubberband.mousemove('motion_notify', mouse_event_fn);\n",
       "\n",
       "    rubberband.mouseenter('figure_enter', mouse_event_fn);\n",
       "    rubberband.mouseleave('figure_leave', mouse_event_fn);\n",
       "\n",
       "    canvas_div.on(\"wheel\", function (event) {\n",
       "        event = event.originalEvent;\n",
       "        event['data'] = 'scroll'\n",
       "        if (event.deltaY < 0) {\n",
       "            event.step = 1;\n",
       "        } else {\n",
       "            event.step = -1;\n",
       "        }\n",
       "        mouse_event_fn(event);\n",
       "    });\n",
       "\n",
       "    canvas_div.append(canvas);\n",
       "    canvas_div.append(rubberband);\n",
       "\n",
       "    this.rubberband = rubberband;\n",
       "    this.rubberband_canvas = rubberband[0];\n",
       "    this.rubberband_context = rubberband[0].getContext(\"2d\");\n",
       "    this.rubberband_context.strokeStyle = \"#000000\";\n",
       "\n",
       "    this._resize_canvas = function(width, height) {\n",
       "        // Keep the size of the canvas, canvas container, and rubber band\n",
       "        // canvas in synch.\n",
       "        canvas_div.css('width', width)\n",
       "        canvas_div.css('height', height)\n",
       "\n",
       "        canvas.attr('width', width * mpl.ratio);\n",
       "        canvas.attr('height', height * mpl.ratio);\n",
       "        canvas.attr('style', 'width: ' + width + 'px; height: ' + height + 'px;');\n",
       "\n",
       "        rubberband.attr('width', width);\n",
       "        rubberband.attr('height', height);\n",
       "    }\n",
       "\n",
       "    // Set the figure to an initial 600x600px, this will subsequently be updated\n",
       "    // upon first draw.\n",
       "    this._resize_canvas(600, 600);\n",
       "\n",
       "    // Disable right mouse context menu.\n",
       "    $(this.rubberband_canvas).bind(\"contextmenu\",function(e){\n",
       "        return false;\n",
       "    });\n",
       "\n",
       "    function set_focus () {\n",
       "        canvas.focus();\n",
       "        canvas_div.focus();\n",
       "    }\n",
       "\n",
       "    window.setTimeout(set_focus, 100);\n",
       "}\n",
       "\n",
       "mpl.figure.prototype._init_toolbar = function() {\n",
       "    var fig = this;\n",
       "\n",
       "    var nav_element = $('<div/>')\n",
       "    nav_element.attr('style', 'width: 100%');\n",
       "    this.root.append(nav_element);\n",
       "\n",
       "    // Define a callback function for later on.\n",
       "    function toolbar_event(event) {\n",
       "        return fig.toolbar_button_onclick(event['data']);\n",
       "    }\n",
       "    function toolbar_mouse_event(event) {\n",
       "        return fig.toolbar_button_onmouseover(event['data']);\n",
       "    }\n",
       "\n",
       "    for(var toolbar_ind in mpl.toolbar_items) {\n",
       "        var name = mpl.toolbar_items[toolbar_ind][0];\n",
       "        var tooltip = mpl.toolbar_items[toolbar_ind][1];\n",
       "        var image = mpl.toolbar_items[toolbar_ind][2];\n",
       "        var method_name = mpl.toolbar_items[toolbar_ind][3];\n",
       "\n",
       "        if (!name) {\n",
       "            // put a spacer in here.\n",
       "            continue;\n",
       "        }\n",
       "        var button = $('<button/>');\n",
       "        button.addClass('ui-button ui-widget ui-state-default ui-corner-all ' +\n",
       "                        'ui-button-icon-only');\n",
       "        button.attr('role', 'button');\n",
       "        button.attr('aria-disabled', 'false');\n",
       "        button.click(method_name, toolbar_event);\n",
       "        button.mouseover(tooltip, toolbar_mouse_event);\n",
       "\n",
       "        var icon_img = $('<span/>');\n",
       "        icon_img.addClass('ui-button-icon-primary ui-icon');\n",
       "        icon_img.addClass(image);\n",
       "        icon_img.addClass('ui-corner-all');\n",
       "\n",
       "        var tooltip_span = $('<span/>');\n",
       "        tooltip_span.addClass('ui-button-text');\n",
       "        tooltip_span.html(tooltip);\n",
       "\n",
       "        button.append(icon_img);\n",
       "        button.append(tooltip_span);\n",
       "\n",
       "        nav_element.append(button);\n",
       "    }\n",
       "\n",
       "    var fmt_picker_span = $('<span/>');\n",
       "\n",
       "    var fmt_picker = $('<select/>');\n",
       "    fmt_picker.addClass('mpl-toolbar-option ui-widget ui-widget-content');\n",
       "    fmt_picker_span.append(fmt_picker);\n",
       "    nav_element.append(fmt_picker_span);\n",
       "    this.format_dropdown = fmt_picker[0];\n",
       "\n",
       "    for (var ind in mpl.extensions) {\n",
       "        var fmt = mpl.extensions[ind];\n",
       "        var option = $(\n",
       "            '<option/>', {selected: fmt === mpl.default_extension}).html(fmt);\n",
       "        fmt_picker.append(option)\n",
       "    }\n",
       "\n",
       "    // Add hover states to the ui-buttons\n",
       "    $( \".ui-button\" ).hover(\n",
       "        function() { $(this).addClass(\"ui-state-hover\");},\n",
       "        function() { $(this).removeClass(\"ui-state-hover\");}\n",
       "    );\n",
       "\n",
       "    var status_bar = $('<span class=\"mpl-message\"/>');\n",
       "    nav_element.append(status_bar);\n",
       "    this.message = status_bar[0];\n",
       "}\n",
       "\n",
       "mpl.figure.prototype.request_resize = function(x_pixels, y_pixels) {\n",
       "    // Request matplotlib to resize the figure. Matplotlib will then trigger a resize in the client,\n",
       "    // which will in turn request a refresh of the image.\n",
       "    this.send_message('resize', {'width': x_pixels, 'height': y_pixels});\n",
       "}\n",
       "\n",
       "mpl.figure.prototype.send_message = function(type, properties) {\n",
       "    properties['type'] = type;\n",
       "    properties['figure_id'] = this.id;\n",
       "    this.ws.send(JSON.stringify(properties));\n",
       "}\n",
       "\n",
       "mpl.figure.prototype.send_draw_message = function() {\n",
       "    if (!this.waiting) {\n",
       "        this.waiting = true;\n",
       "        this.ws.send(JSON.stringify({type: \"draw\", figure_id: this.id}));\n",
       "    }\n",
       "}\n",
       "\n",
       "\n",
       "mpl.figure.prototype.handle_save = function(fig, msg) {\n",
       "    var format_dropdown = fig.format_dropdown;\n",
       "    var format = format_dropdown.options[format_dropdown.selectedIndex].value;\n",
       "    fig.ondownload(fig, format);\n",
       "}\n",
       "\n",
       "\n",
       "mpl.figure.prototype.handle_resize = function(fig, msg) {\n",
       "    var size = msg['size'];\n",
       "    if (size[0] != fig.canvas.width || size[1] != fig.canvas.height) {\n",
       "        fig._resize_canvas(size[0], size[1]);\n",
       "        fig.send_message(\"refresh\", {});\n",
       "    };\n",
       "}\n",
       "\n",
       "mpl.figure.prototype.handle_rubberband = function(fig, msg) {\n",
       "    var x0 = msg['x0'] / mpl.ratio;\n",
       "    var y0 = (fig.canvas.height - msg['y0']) / mpl.ratio;\n",
       "    var x1 = msg['x1'] / mpl.ratio;\n",
       "    var y1 = (fig.canvas.height - msg['y1']) / mpl.ratio;\n",
       "    x0 = Math.floor(x0) + 0.5;\n",
       "    y0 = Math.floor(y0) + 0.5;\n",
       "    x1 = Math.floor(x1) + 0.5;\n",
       "    y1 = Math.floor(y1) + 0.5;\n",
       "    var min_x = Math.min(x0, x1);\n",
       "    var min_y = Math.min(y0, y1);\n",
       "    var width = Math.abs(x1 - x0);\n",
       "    var height = Math.abs(y1 - y0);\n",
       "\n",
       "    fig.rubberband_context.clearRect(\n",
       "        0, 0, fig.canvas.width, fig.canvas.height);\n",
       "\n",
       "    fig.rubberband_context.strokeRect(min_x, min_y, width, height);\n",
       "}\n",
       "\n",
       "mpl.figure.prototype.handle_figure_label = function(fig, msg) {\n",
       "    // Updates the figure title.\n",
       "    fig.header.textContent = msg['label'];\n",
       "}\n",
       "\n",
       "mpl.figure.prototype.handle_cursor = function(fig, msg) {\n",
       "    var cursor = msg['cursor'];\n",
       "    switch(cursor)\n",
       "    {\n",
       "    case 0:\n",
       "        cursor = 'pointer';\n",
       "        break;\n",
       "    case 1:\n",
       "        cursor = 'default';\n",
       "        break;\n",
       "    case 2:\n",
       "        cursor = 'crosshair';\n",
       "        break;\n",
       "    case 3:\n",
       "        cursor = 'move';\n",
       "        break;\n",
       "    }\n",
       "    fig.rubberband_canvas.style.cursor = cursor;\n",
       "}\n",
       "\n",
       "mpl.figure.prototype.handle_message = function(fig, msg) {\n",
       "    fig.message.textContent = msg['message'];\n",
       "}\n",
       "\n",
       "mpl.figure.prototype.handle_draw = function(fig, msg) {\n",
       "    // Request the server to send over a new figure.\n",
       "    fig.send_draw_message();\n",
       "}\n",
       "\n",
       "mpl.figure.prototype.handle_image_mode = function(fig, msg) {\n",
       "    fig.image_mode = msg['mode'];\n",
       "}\n",
       "\n",
       "mpl.figure.prototype.updated_canvas_event = function() {\n",
       "    // Called whenever the canvas gets updated.\n",
       "    this.send_message(\"ack\", {});\n",
       "}\n",
       "\n",
       "// A function to construct a web socket function for onmessage handling.\n",
       "// Called in the figure constructor.\n",
       "mpl.figure.prototype._make_on_message_function = function(fig) {\n",
       "    return function socket_on_message(evt) {\n",
       "        if (evt.data instanceof Blob) {\n",
       "            /* FIXME: We get \"Resource interpreted as Image but\n",
       "             * transferred with MIME type text/plain:\" errors on\n",
       "             * Chrome.  But how to set the MIME type?  It doesn't seem\n",
       "             * to be part of the websocket stream */\n",
       "            evt.data.type = \"image/png\";\n",
       "\n",
       "            /* Free the memory for the previous frames */\n",
       "            if (fig.imageObj.src) {\n",
       "                (window.URL || window.webkitURL).revokeObjectURL(\n",
       "                    fig.imageObj.src);\n",
       "            }\n",
       "\n",
       "            fig.imageObj.src = (window.URL || window.webkitURL).createObjectURL(\n",
       "                evt.data);\n",
       "            fig.updated_canvas_event();\n",
       "            fig.waiting = false;\n",
       "            return;\n",
       "        }\n",
       "        else if (typeof evt.data === 'string' && evt.data.slice(0, 21) == \"data:image/png;base64\") {\n",
       "            fig.imageObj.src = evt.data;\n",
       "            fig.updated_canvas_event();\n",
       "            fig.waiting = false;\n",
       "            return;\n",
       "        }\n",
       "\n",
       "        var msg = JSON.parse(evt.data);\n",
       "        var msg_type = msg['type'];\n",
       "\n",
       "        // Call the  \"handle_{type}\" callback, which takes\n",
       "        // the figure and JSON message as its only arguments.\n",
       "        try {\n",
       "            var callback = fig[\"handle_\" + msg_type];\n",
       "        } catch (e) {\n",
       "            console.log(\"No handler for the '\" + msg_type + \"' message type: \", msg);\n",
       "            return;\n",
       "        }\n",
       "\n",
       "        if (callback) {\n",
       "            try {\n",
       "                // console.log(\"Handling '\" + msg_type + \"' message: \", msg);\n",
       "                callback(fig, msg);\n",
       "            } catch (e) {\n",
       "                console.log(\"Exception inside the 'handler_\" + msg_type + \"' callback:\", e, e.stack, msg);\n",
       "            }\n",
       "        }\n",
       "    };\n",
       "}\n",
       "\n",
       "// from http://stackoverflow.com/questions/1114465/getting-mouse-location-in-canvas\n",
       "mpl.findpos = function(e) {\n",
       "    //this section is from http://www.quirksmode.org/js/events_properties.html\n",
       "    var targ;\n",
       "    if (!e)\n",
       "        e = window.event;\n",
       "    if (e.target)\n",
       "        targ = e.target;\n",
       "    else if (e.srcElement)\n",
       "        targ = e.srcElement;\n",
       "    if (targ.nodeType == 3) // defeat Safari bug\n",
       "        targ = targ.parentNode;\n",
       "\n",
       "    // jQuery normalizes the pageX and pageY\n",
       "    // pageX,Y are the mouse positions relative to the document\n",
       "    // offset() returns the position of the element relative to the document\n",
       "    var x = e.pageX - $(targ).offset().left;\n",
       "    var y = e.pageY - $(targ).offset().top;\n",
       "\n",
       "    return {\"x\": x, \"y\": y};\n",
       "};\n",
       "\n",
       "/*\n",
       " * return a copy of an object with only non-object keys\n",
       " * we need this to avoid circular references\n",
       " * http://stackoverflow.com/a/24161582/3208463\n",
       " */\n",
       "function simpleKeys (original) {\n",
       "  return Object.keys(original).reduce(function (obj, key) {\n",
       "    if (typeof original[key] !== 'object')\n",
       "        obj[key] = original[key]\n",
       "    return obj;\n",
       "  }, {});\n",
       "}\n",
       "\n",
       "mpl.figure.prototype.mouse_event = function(event, name) {\n",
       "    var canvas_pos = mpl.findpos(event)\n",
       "\n",
       "    if (name === 'button_press')\n",
       "    {\n",
       "        this.canvas.focus();\n",
       "        this.canvas_div.focus();\n",
       "    }\n",
       "\n",
       "    var x = canvas_pos.x * mpl.ratio;\n",
       "    var y = canvas_pos.y * mpl.ratio;\n",
       "\n",
       "    this.send_message(name, {x: x, y: y, button: event.button,\n",
       "                             step: event.step,\n",
       "                             guiEvent: simpleKeys(event)});\n",
       "\n",
       "    /* This prevents the web browser from automatically changing to\n",
       "     * the text insertion cursor when the button is pressed.  We want\n",
       "     * to control all of the cursor setting manually through the\n",
       "     * 'cursor' event from matplotlib */\n",
       "    event.preventDefault();\n",
       "    return false;\n",
       "}\n",
       "\n",
       "mpl.figure.prototype._key_event_extra = function(event, name) {\n",
       "    // Handle any extra behaviour associated with a key event\n",
       "}\n",
       "\n",
       "mpl.figure.prototype.key_event = function(event, name) {\n",
       "\n",
       "    // Prevent repeat events\n",
       "    if (name == 'key_press')\n",
       "    {\n",
       "        if (event.which === this._key)\n",
       "            return;\n",
       "        else\n",
       "            this._key = event.which;\n",
       "    }\n",
       "    if (name == 'key_release')\n",
       "        this._key = null;\n",
       "\n",
       "    var value = '';\n",
       "    if (event.ctrlKey && event.which != 17)\n",
       "        value += \"ctrl+\";\n",
       "    if (event.altKey && event.which != 18)\n",
       "        value += \"alt+\";\n",
       "    if (event.shiftKey && event.which != 16)\n",
       "        value += \"shift+\";\n",
       "\n",
       "    value += 'k';\n",
       "    value += event.which.toString();\n",
       "\n",
       "    this._key_event_extra(event, name);\n",
       "\n",
       "    this.send_message(name, {key: value,\n",
       "                             guiEvent: simpleKeys(event)});\n",
       "    return false;\n",
       "}\n",
       "\n",
       "mpl.figure.prototype.toolbar_button_onclick = function(name) {\n",
       "    if (name == 'download') {\n",
       "        this.handle_save(this, null);\n",
       "    } else {\n",
       "        this.send_message(\"toolbar_button\", {name: name});\n",
       "    }\n",
       "};\n",
       "\n",
       "mpl.figure.prototype.toolbar_button_onmouseover = function(tooltip) {\n",
       "    this.message.textContent = tooltip;\n",
       "};\n",
       "mpl.toolbar_items = [[\"Home\", \"Reset original view\", \"fa fa-home icon-home\", \"home\"], [\"Back\", \"Back to previous view\", \"fa fa-arrow-left icon-arrow-left\", \"back\"], [\"Forward\", \"Forward to next view\", \"fa fa-arrow-right icon-arrow-right\", \"forward\"], [\"\", \"\", \"\", \"\"], [\"Pan\", \"Pan axes with left mouse, zoom with right\", \"fa fa-arrows icon-move\", \"pan\"], [\"Zoom\", \"Zoom to rectangle\", \"fa fa-square-o icon-check-empty\", \"zoom\"], [\"\", \"\", \"\", \"\"], [\"Download\", \"Download plot\", \"fa fa-floppy-o icon-save\", \"download\"]];\n",
       "\n",
       "mpl.extensions = [\"eps\", \"jpeg\", \"pdf\", \"png\", \"ps\", \"raw\", \"svg\", \"tif\"];\n",
       "\n",
       "mpl.default_extension = \"png\";var comm_websocket_adapter = function(comm) {\n",
       "    // Create a \"websocket\"-like object which calls the given IPython comm\n",
       "    // object with the appropriate methods. Currently this is a non binary\n",
       "    // socket, so there is still some room for performance tuning.\n",
       "    var ws = {};\n",
       "\n",
       "    ws.close = function() {\n",
       "        comm.close()\n",
       "    };\n",
       "    ws.send = function(m) {\n",
       "        //console.log('sending', m);\n",
       "        comm.send(m);\n",
       "    };\n",
       "    // Register the callback with on_msg.\n",
       "    comm.on_msg(function(msg) {\n",
       "        //console.log('receiving', msg['content']['data'], msg);\n",
       "        // Pass the mpl event to the overridden (by mpl) onmessage function.\n",
       "        ws.onmessage(msg['content']['data'])\n",
       "    });\n",
       "    return ws;\n",
       "}\n",
       "\n",
       "mpl.mpl_figure_comm = function(comm, msg) {\n",
       "    // This is the function which gets called when the mpl process\n",
       "    // starts-up an IPython Comm through the \"matplotlib\" channel.\n",
       "\n",
       "    var id = msg.content.data.id;\n",
       "    // Get hold of the div created by the display call when the Comm\n",
       "    // socket was opened in Python.\n",
       "    var element = $(\"#\" + id);\n",
       "    var ws_proxy = comm_websocket_adapter(comm)\n",
       "\n",
       "    function ondownload(figure, format) {\n",
       "        window.open(figure.imageObj.src);\n",
       "    }\n",
       "\n",
       "    var fig = new mpl.figure(id, ws_proxy,\n",
       "                           ondownload,\n",
       "                           element.get(0));\n",
       "\n",
       "    // Call onopen now - mpl needs it, as it is assuming we've passed it a real\n",
       "    // web socket which is closed, not our websocket->open comm proxy.\n",
       "    ws_proxy.onopen();\n",
       "\n",
       "    fig.parent_element = element.get(0);\n",
       "    fig.cell_info = mpl.find_output_cell(\"<div id='\" + id + \"'></div>\");\n",
       "    if (!fig.cell_info) {\n",
       "        console.error(\"Failed to find cell for figure\", id, fig);\n",
       "        return;\n",
       "    }\n",
       "\n",
       "    var output_index = fig.cell_info[2]\n",
       "    var cell = fig.cell_info[0];\n",
       "\n",
       "};\n",
       "\n",
       "mpl.figure.prototype.handle_close = function(fig, msg) {\n",
       "    var width = fig.canvas.width/mpl.ratio\n",
       "    fig.root.unbind('remove')\n",
       "\n",
       "    // Update the output cell to use the data from the current canvas.\n",
       "    fig.push_to_output();\n",
       "    var dataURL = fig.canvas.toDataURL();\n",
       "    // Re-enable the keyboard manager in IPython - without this line, in FF,\n",
       "    // the notebook keyboard shortcuts fail.\n",
       "    IPython.keyboard_manager.enable()\n",
       "    $(fig.parent_element).html('<img src=\"' + dataURL + '\" width=\"' + width + '\">');\n",
       "    fig.close_ws(fig, msg);\n",
       "}\n",
       "\n",
       "mpl.figure.prototype.close_ws = function(fig, msg){\n",
       "    fig.send_message('closing', msg);\n",
       "    // fig.ws.close()\n",
       "}\n",
       "\n",
       "mpl.figure.prototype.push_to_output = function(remove_interactive) {\n",
       "    // Turn the data on the canvas into data in the output cell.\n",
       "    var width = this.canvas.width/mpl.ratio\n",
       "    var dataURL = this.canvas.toDataURL();\n",
       "    this.cell_info[1]['text/html'] = '<img src=\"' + dataURL + '\" width=\"' + width + '\">';\n",
       "}\n",
       "\n",
       "mpl.figure.prototype.updated_canvas_event = function() {\n",
       "    // Tell IPython that the notebook contents must change.\n",
       "    IPython.notebook.set_dirty(true);\n",
       "    this.send_message(\"ack\", {});\n",
       "    var fig = this;\n",
       "    // Wait a second, then push the new image to the DOM so\n",
       "    // that it is saved nicely (might be nice to debounce this).\n",
       "    setTimeout(function () { fig.push_to_output() }, 1000);\n",
       "}\n",
       "\n",
       "mpl.figure.prototype._init_toolbar = function() {\n",
       "    var fig = this;\n",
       "\n",
       "    var nav_element = $('<div/>')\n",
       "    nav_element.attr('style', 'width: 100%');\n",
       "    this.root.append(nav_element);\n",
       "\n",
       "    // Define a callback function for later on.\n",
       "    function toolbar_event(event) {\n",
       "        return fig.toolbar_button_onclick(event['data']);\n",
       "    }\n",
       "    function toolbar_mouse_event(event) {\n",
       "        return fig.toolbar_button_onmouseover(event['data']);\n",
       "    }\n",
       "\n",
       "    for(var toolbar_ind in mpl.toolbar_items){\n",
       "        var name = mpl.toolbar_items[toolbar_ind][0];\n",
       "        var tooltip = mpl.toolbar_items[toolbar_ind][1];\n",
       "        var image = mpl.toolbar_items[toolbar_ind][2];\n",
       "        var method_name = mpl.toolbar_items[toolbar_ind][3];\n",
       "\n",
       "        if (!name) { continue; };\n",
       "\n",
       "        var button = $('<button class=\"btn btn-default\" href=\"#\" title=\"' + name + '\"><i class=\"fa ' + image + ' fa-lg\"></i></button>');\n",
       "        button.click(method_name, toolbar_event);\n",
       "        button.mouseover(tooltip, toolbar_mouse_event);\n",
       "        nav_element.append(button);\n",
       "    }\n",
       "\n",
       "    // Add the status bar.\n",
       "    var status_bar = $('<span class=\"mpl-message\" style=\"text-align:right; float: right;\"/>');\n",
       "    nav_element.append(status_bar);\n",
       "    this.message = status_bar[0];\n",
       "\n",
       "    // Add the close button to the window.\n",
       "    var buttongrp = $('<div class=\"btn-group inline pull-right\"></div>');\n",
       "    var button = $('<button class=\"btn btn-mini btn-primary\" href=\"#\" title=\"Stop Interaction\"><i class=\"fa fa-power-off icon-remove icon-large\"></i></button>');\n",
       "    button.click(function (evt) { fig.handle_close(fig, {}); } );\n",
       "    button.mouseover('Stop Interaction', toolbar_mouse_event);\n",
       "    buttongrp.append(button);\n",
       "    var titlebar = this.root.find($('.ui-dialog-titlebar'));\n",
       "    titlebar.prepend(buttongrp);\n",
       "}\n",
       "\n",
       "mpl.figure.prototype._root_extra_style = function(el){\n",
       "    var fig = this\n",
       "    el.on(\"remove\", function(){\n",
       "\tfig.close_ws(fig, {});\n",
       "    });\n",
       "}\n",
       "\n",
       "mpl.figure.prototype._canvas_extra_style = function(el){\n",
       "    // this is important to make the div 'focusable\n",
       "    el.attr('tabindex', 0)\n",
       "    // reach out to IPython and tell the keyboard manager to turn it's self\n",
       "    // off when our div gets focus\n",
       "\n",
       "    // location in version 3\n",
       "    if (IPython.notebook.keyboard_manager) {\n",
       "        IPython.notebook.keyboard_manager.register_events(el);\n",
       "    }\n",
       "    else {\n",
       "        // location in version 2\n",
       "        IPython.keyboard_manager.register_events(el);\n",
       "    }\n",
       "\n",
       "}\n",
       "\n",
       "mpl.figure.prototype._key_event_extra = function(event, name) {\n",
       "    var manager = IPython.notebook.keyboard_manager;\n",
       "    if (!manager)\n",
       "        manager = IPython.keyboard_manager;\n",
       "\n",
       "    // Check for shift+enter\n",
       "    if (event.shiftKey && event.which == 13) {\n",
       "        this.canvas_div.blur();\n",
       "        event.shiftKey = false;\n",
       "        // Send a \"J\" for go to next cell\n",
       "        event.which = 74;\n",
       "        event.keyCode = 74;\n",
       "        manager.command_mode();\n",
       "        manager.handle_keydown(event);\n",
       "    }\n",
       "}\n",
       "\n",
       "mpl.figure.prototype.handle_save = function(fig, msg) {\n",
       "    fig.ondownload(fig, null);\n",
       "}\n",
       "\n",
       "\n",
       "mpl.find_output_cell = function(html_output) {\n",
       "    // Return the cell and output element which can be found *uniquely* in the notebook.\n",
       "    // Note - this is a bit hacky, but it is done because the \"notebook_saving.Notebook\"\n",
       "    // IPython event is triggered only after the cells have been serialised, which for\n",
       "    // our purposes (turning an active figure into a static one), is too late.\n",
       "    var cells = IPython.notebook.get_cells();\n",
       "    var ncells = cells.length;\n",
       "    for (var i=0; i<ncells; i++) {\n",
       "        var cell = cells[i];\n",
       "        if (cell.cell_type === 'code'){\n",
       "            for (var j=0; j<cell.output_area.outputs.length; j++) {\n",
       "                var data = cell.output_area.outputs[j];\n",
       "                if (data.data) {\n",
       "                    // IPython >= 3 moved mimebundle to data attribute of output\n",
       "                    data = data.data;\n",
       "                }\n",
       "                if (data['text/html'] == html_output) {\n",
       "                    return [cell, data, j];\n",
       "                }\n",
       "            }\n",
       "        }\n",
       "    }\n",
       "}\n",
       "\n",
       "// Register the function which deals with the matplotlib target/channel.\n",
       "// The kernel may be null if the page has been refreshed.\n",
       "if (IPython.notebook.kernel != null) {\n",
       "    IPython.notebook.kernel.comm_manager.register_target('matplotlib', mpl.mpl_figure_comm);\n",
       "}\n"
      ],
      "text/plain": [
       "<IPython.core.display.Javascript object>"
      ]
     },
     "metadata": {},
     "output_type": "display_data"
    },
    {
     "data": {
      "text/html": [
       "<img src=\"data:image/png;base64,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\" width=\"640\">"
      ],
      "text/plain": [
       "<IPython.core.display.HTML object>"
      ]
     },
     "metadata": {},
     "output_type": "display_data"
    }
   ],
   "source": [
    "%matplotlib notebook\n",
    "ising_model.analyse()"
   ]
  }
 ],
 "metadata": {
  "kernelspec": {
   "display_name": "Python 3",
   "language": "python",
   "name": "python3"
  },
  "language_info": {
   "codemirror_mode": {
    "name": "ipython",
    "version": 3
   },
   "file_extension": ".py",
   "mimetype": "text/x-python",
   "name": "python",
   "nbconvert_exporter": "python",
   "pygments_lexer": "ipython3",
   "version": "3.6.7"
  }
 },
 "nbformat": 4,
 "nbformat_minor": 2
}
