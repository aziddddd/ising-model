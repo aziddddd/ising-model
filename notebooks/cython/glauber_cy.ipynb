{
 "cells": [
  {
   "cell_type": "markdown",
   "metadata": {},
   "source": [
    "\n",
    "#### Import required packages"
   ]
  },
  {
   "cell_type": "code",
   "execution_count": 1,
   "metadata": {},
   "outputs": [],
   "source": [
    "from __future__ import division\n",
    "import pyximport\n",
    "import numpy as np\n",
    "pyximport.install(setup_args={\n",
    "                              \"script_args\":[\"--compiler=mingw32\"],\n",
    "                              \"include_dirs\":np.get_include()\n",
    "                            },\n",
    "                  language_level=3,\n",
    "                  reload_support=True)\n",
    "import im_utils_cy                           # cythonized python module\n",
    "# import im_utils                            # unoptimized python module\n",
    "import matplotlib.pyplot as plt"
   ]
  },
  {
   "cell_type": "code",
   "execution_count": 2,
   "metadata": {},
   "outputs": [],
   "source": [
    "plt.rcParams['figure.figsize'] = (10,10)"
   ]
  },
  {
   "cell_type": "markdown",
   "metadata": {},
   "source": [
    "#### Initialisation"
   ]
  },
  {
   "cell_type": "code",
   "execution_count": 3,
   "metadata": {},
   "outputs": [],
   "source": [
    "N           = 50                             # system size\n",
    "temp        = 5.0                            # temp\n",
    "method      = 'glauber'                      # glauber or kawasaki\n",
    "temp_point  = 20                             # no. of points for analyse plot\n",
    "temp_range  = (1.5, 3.3)                     # temperature plotting range\n",
    "equistep    = 1000                           # equilibrate sweep\n",
    "calcstep    = 10000                          # measurement sweep\n",
    "factor      = int(calcstep/10)               # because of 'if (j%10 == 0):' in 'analyse' fn"
   ]
  },
  {
   "cell_type": "markdown",
   "metadata": {},
   "source": [
    "#### Methods"
   ]
  },
  {
   "cell_type": "code",
   "execution_count": 5,
   "metadata": {},
   "outputs": [],
   "source": [
    "ising_model = im_utils_cy.Ising(N, factor, temp, method, temp_point, temp_range, equistep, calcstep)"
   ]
  },
  {
   "cell_type": "markdown",
   "metadata": {},
   "source": [
    "#### Results"
   ]
  },
  {
   "cell_type": "markdown",
   "metadata": {},
   "source": [
    "- Snapshots"
   ]
  },
  {
   "cell_type": "code",
   "execution_count": 6,
   "metadata": {
    "scrolled": false
   },
   "outputs": [
    {
     "data": {
      "application/vnd.jupyter.widget-view+json": {
       "model_id": "bd1a137b14fb4ecaa96eab9afd7e3ec6",
       "version_major": 2,
       "version_minor": 0
      },
      "text/plain": [
       "HBox(children=(IntProgress(value=0, max=1000), HTML(value='')))"
      ]
     },
     "metadata": {},
     "output_type": "display_data"
    },
    {
     "name": "stdout",
     "output_type": "stream",
     "text": [
      "\n"
     ]
    },
    {
     "data": {
      "image/png": "[encoded data removed]",
      "text/plain": [
       "<Figure size 720x720 with 6 Axes>"
      ]
     },
     "metadata": {},
     "output_type": "display_data"
    }
   ],
   "source": [
    "ising_model.snapshots(1000)"
   ]
  },
  {
   "cell_type": "markdown",
   "metadata": {},
   "source": [
    "- Animation"
   ]
  },
  {
   "cell_type": "code",
   "execution_count": 7,
   "metadata": {},
   "outputs": [
    {
     "data": {
      "image/png": "[encoded data removed]",
      "text/plain": [
       "<Figure size 400x400 with 1 Axes>"
      ]
     },
     "metadata": {},
     "output_type": "display_data"
    }
   ],
   "source": [
    "ising_model.DynamicPlot(100)"
   ]
  },
  {
   "cell_type": "markdown",
   "metadata": {},
   "source": [
    "- Method behavior\n",
    "    - Energy, E\n",
    "    - Magnetisation, M\n",
    "    - Susceptibility, X\n",
    "    - Heat Capacity, C "
   ]
  },
  {
   "cell_type": "code",
   "execution_count": 8,
   "metadata": {
    "scrolled": false
   },
   "outputs": [
    {
     "data": {
      "application/vnd.jupyter.widget-view+json": {
       "model_id": "a7bc05c0b8364cf5a27c783b0c9243da",
       "version_major": 2,
       "version_minor": 0
      },
      "text/plain": [
       "HBox(children=(IntProgress(value=0, description='Temp point', max=20, style=ProgressStyle(description_width='i…"
      ]
     },
     "metadata": {},
     "output_type": "display_data"
    },
    {
     "data": {
      "application/vnd.jupyter.widget-view+json": {
       "model_id": "",
       "version_major": 2,
       "version_minor": 0
      },
      "text/plain": [
       "HBox(children=(IntProgress(value=0, description='Equilibrate sweep', max=1000, style=ProgressStyle(description…"
      ]
     },
     "metadata": {},
     "output_type": "display_data"
    },
    {
     "data": {
      "application/vnd.jupyter.widget-view+json": {
       "model_id": "",
       "version_major": 2,
       "version_minor": 0
      },
      "text/plain": [
       "HBox(children=(IntProgress(value=0, description='Measurement sweep', max=10000, style=ProgressStyle(descriptio…"
      ]
     },
     "metadata": {},
     "output_type": "display_data"
    },
    {
     "data": {
      "application/vnd.jupyter.widget-view+json": {
       "model_id": "",
       "version_major": 2,
       "version_minor": 0
      },
      "text/plain": [
       "HBox(children=(IntProgress(value=0, description='Equilibrate sweep', max=1000, style=ProgressStyle(description…"
      ]
     },
     "metadata": {},
     "output_type": "display_data"
    },
    {
     "data": {
      "application/vnd.jupyter.widget-view+json": {
       "model_id": "",
       "version_major": 2,
       "version_minor": 0
      },
      "text/plain": [
       "HBox(children=(IntProgress(value=0, description='Measurement sweep', max=10000, style=ProgressStyle(descriptio…"
      ]
     },
     "metadata": {},
     "output_type": "display_data"
    },
    {
     "data": {
      "application/vnd.jupyter.widget-view+json": {
       "model_id": "",
       "version_major": 2,
       "version_minor": 0
      },
      "text/plain": [
       "HBox(children=(IntProgress(value=0, description='Equilibrate sweep', max=1000, style=ProgressStyle(description…"
      ]
     },
     "metadata": {},
     "output_type": "display_data"
    },
    {
     "data": {
      "application/vnd.jupyter.widget-view+json": {
       "model_id": "",
       "version_major": 2,
       "version_minor": 0
      },
      "text/plain": [
       "HBox(children=(IntProgress(value=0, description='Measurement sweep', max=10000, style=ProgressStyle(descriptio…"
      ]
     },
     "metadata": {},
     "output_type": "display_data"
    },
    {
     "data": {
      "application/vnd.jupyter.widget-view+json": {
       "model_id": "",
       "version_major": 2,
       "version_minor": 0
      },
      "text/plain": [
       "HBox(children=(IntProgress(value=0, description='Equilibrate sweep', max=1000, style=ProgressStyle(description…"
      ]
     },
     "metadata": {},
     "output_type": "display_data"
    },
    {
     "data": {
      "application/vnd.jupyter.widget-view+json": {
       "model_id": "",
       "version_major": 2,
       "version_minor": 0
      },
      "text/plain": [
       "HBox(children=(IntProgress(value=0, description='Measurement sweep', max=10000, style=ProgressStyle(descriptio…"
      ]
     },
     "metadata": {},
     "output_type": "display_data"
    },
    {
     "data": {
      "application/vnd.jupyter.widget-view+json": {
       "model_id": "",
       "version_major": 2,
       "version_minor": 0
      },
      "text/plain": [
       "HBox(children=(IntProgress(value=0, description='Equilibrate sweep', max=1000, style=ProgressStyle(description…"
      ]
     },
     "metadata": {},
     "output_type": "display_data"
    },
    {
     "data": {
      "application/vnd.jupyter.widget-view+json": {
       "model_id": "",
       "version_major": 2,
       "version_minor": 0
      },
      "text/plain": [
       "HBox(children=(IntProgress(value=0, description='Measurement sweep', max=10000, style=ProgressStyle(descriptio…"
      ]
     },
     "metadata": {},
     "output_type": "display_data"
    },
    {
     "data": {
      "application/vnd.jupyter.widget-view+json": {
       "model_id": "",
       "version_major": 2,
       "version_minor": 0
      },
      "text/plain": [
       "HBox(children=(IntProgress(value=0, description='Equilibrate sweep', max=1000, style=ProgressStyle(description…"
      ]
     },
     "metadata": {},
     "output_type": "display_data"
    },
    {
     "data": {
      "application/vnd.jupyter.widget-view+json": {
       "model_id": "",
       "version_major": 2,
       "version_minor": 0
      },
      "text/plain": [
       "HBox(children=(IntProgress(value=0, description='Measurement sweep', max=10000, style=ProgressStyle(descriptio…"
      ]
     },
     "metadata": {},
     "output_type": "display_data"
    },
    {
     "data": {
      "application/vnd.jupyter.widget-view+json": {
       "model_id": "",
       "version_major": 2,
       "version_minor": 0
      },
      "text/plain": [
       "HBox(children=(IntProgress(value=0, description='Equilibrate sweep', max=1000, style=ProgressStyle(description…"
      ]
     },
     "metadata": {},
     "output_type": "display_data"
    },
    {
     "data": {
      "application/vnd.jupyter.widget-view+json": {
       "model_id": "",
       "version_major": 2,
       "version_minor": 0
      },
      "text/plain": [
       "HBox(children=(IntProgress(value=0, description='Measurement sweep', max=10000, style=ProgressStyle(descriptio…"
      ]
     },
     "metadata": {},
     "output_type": "display_data"
    },
    {
     "data": {
      "application/vnd.jupyter.widget-view+json": {
       "model_id": "",
       "version_major": 2,
       "version_minor": 0
      },
      "text/plain": [
       "HBox(children=(IntProgress(value=0, description='Equilibrate sweep', max=1000, style=ProgressStyle(description…"
      ]
     },
     "metadata": {},
     "output_type": "display_data"
    },
    {
     "data": {
      "application/vnd.jupyter.widget-view+json": {
       "model_id": "",
       "version_major": 2,
       "version_minor": 0
      },
      "text/plain": [
       "HBox(children=(IntProgress(value=0, description='Measurement sweep', max=10000, style=ProgressStyle(descriptio…"
      ]
     },
     "metadata": {},
     "output_type": "display_data"
    },
    {
     "data": {
      "application/vnd.jupyter.widget-view+json": {
       "model_id": "",
       "version_major": 2,
       "version_minor": 0
      },
      "text/plain": [
       "HBox(children=(IntProgress(value=0, description='Equilibrate sweep', max=1000, style=ProgressStyle(description…"
      ]
     },
     "metadata": {},
     "output_type": "display_data"
    },
    {
     "data": {
      "application/vnd.jupyter.widget-view+json": {
       "model_id": "",
       "version_major": 2,
       "version_minor": 0
      },
      "text/plain": [
       "HBox(children=(IntProgress(value=0, description='Measurement sweep', max=10000, style=ProgressStyle(descriptio…"
      ]
     },
     "metadata": {},
     "output_type": "display_data"
    },
    {
     "data": {
      "application/vnd.jupyter.widget-view+json": {
       "model_id": "",
       "version_major": 2,
       "version_minor": 0
      },
      "text/plain": [
       "HBox(children=(IntProgress(value=0, description='Equilibrate sweep', max=1000, style=ProgressStyle(description…"
      ]
     },
     "metadata": {},
     "output_type": "display_data"
    },
    {
     "data": {
      "application/vnd.jupyter.widget-view+json": {
       "model_id": "",
       "version_major": 2,
       "version_minor": 0
      },
      "text/plain": [
       "HBox(children=(IntProgress(value=0, description='Measurement sweep', max=10000, style=ProgressStyle(descriptio…"
      ]
     },
     "metadata": {},
     "output_type": "display_data"
    },
    {
     "data": {
      "application/vnd.jupyter.widget-view+json": {
       "model_id": "",
       "version_major": 2,
       "version_minor": 0
      },
      "text/plain": [
       "HBox(children=(IntProgress(value=0, description='Equilibrate sweep', max=1000, style=ProgressStyle(description…"
      ]
     },
     "metadata": {},
     "output_type": "display_data"
    },
    {
     "data": {
      "application/vnd.jupyter.widget-view+json": {
       "model_id": "",
       "version_major": 2,
       "version_minor": 0
      },
      "text/plain": [
       "HBox(children=(IntProgress(value=0, description='Measurement sweep', max=10000, style=ProgressStyle(descriptio…"
      ]
     },
     "metadata": {},
     "output_type": "display_data"
    },
    {
     "data": {
      "application/vnd.jupyter.widget-view+json": {
       "model_id": "",
       "version_major": 2,
       "version_minor": 0
      },
      "text/plain": [
       "HBox(children=(IntProgress(value=0, description='Equilibrate sweep', max=1000, style=ProgressStyle(description…"
      ]
     },
     "metadata": {},
     "output_type": "display_data"
    },
    {
     "data": {
      "application/vnd.jupyter.widget-view+json": {
       "model_id": "",
       "version_major": 2,
       "version_minor": 0
      },
      "text/plain": [
       "HBox(children=(IntProgress(value=0, description='Measurement sweep', max=10000, style=ProgressStyle(descriptio…"
      ]
     },
     "metadata": {},
     "output_type": "display_data"
    },
    {
     "data": {
      "application/vnd.jupyter.widget-view+json": {
       "model_id": "",
       "version_major": 2,
       "version_minor": 0
      },
      "text/plain": [
       "HBox(children=(IntProgress(value=0, description='Equilibrate sweep', max=1000, style=ProgressStyle(description…"
      ]
     },
     "metadata": {},
     "output_type": "display_data"
    },
    {
     "data": {
      "application/vnd.jupyter.widget-view+json": {
       "model_id": "",
       "version_major": 2,
       "version_minor": 0
      },
      "text/plain": [
       "HBox(children=(IntProgress(value=0, description='Measurement sweep', max=10000, style=ProgressStyle(descriptio…"
      ]
     },
     "metadata": {},
     "output_type": "display_data"
    },
    {
     "data": {
      "application/vnd.jupyter.widget-view+json": {
       "model_id": "",
       "version_major": 2,
       "version_minor": 0
      },
      "text/plain": [
       "HBox(children=(IntProgress(value=0, description='Equilibrate sweep', max=1000, style=ProgressStyle(description…"
      ]
     },
     "metadata": {},
     "output_type": "display_data"
    },
    {
     "data": {
      "application/vnd.jupyter.widget-view+json": {
       "model_id": "",
       "version_major": 2,
       "version_minor": 0
      },
      "text/plain": [
       "HBox(children=(IntProgress(value=0, description='Measurement sweep', max=10000, style=ProgressStyle(descriptio…"
      ]
     },
     "metadata": {},
     "output_type": "display_data"
    },
    {
     "data": {
      "application/vnd.jupyter.widget-view+json": {
       "model_id": "",
       "version_major": 2,
       "version_minor": 0
      },
      "text/plain": [
       "HBox(children=(IntProgress(value=0, description='Equilibrate sweep', max=1000, style=ProgressStyle(description…"
      ]
     },
     "metadata": {},
     "output_type": "display_data"
    },
    {
     "data": {
      "application/vnd.jupyter.widget-view+json": {
       "model_id": "",
       "version_major": 2,
       "version_minor": 0
      },
      "text/plain": [
       "HBox(children=(IntProgress(value=0, description='Measurement sweep', max=10000, style=ProgressStyle(descriptio…"
      ]
     },
     "metadata": {},
     "output_type": "display_data"
    },
    {
     "data": {
      "application/vnd.jupyter.widget-view+json": {
       "model_id": "",
       "version_major": 2,
       "version_minor": 0
      },
      "text/plain": [
       "HBox(children=(IntProgress(value=0, description='Equilibrate sweep', max=1000, style=ProgressStyle(description…"
      ]
     },
     "metadata": {},
     "output_type": "display_data"
    },
    {
     "data": {
      "application/vnd.jupyter.widget-view+json": {
       "model_id": "",
       "version_major": 2,
       "version_minor": 0
      },
      "text/plain": [
       "HBox(children=(IntProgress(value=0, description='Measurement sweep', max=10000, style=ProgressStyle(descriptio…"
      ]
     },
     "metadata": {},
     "output_type": "display_data"
    },
    {
     "data": {
      "application/vnd.jupyter.widget-view+json": {
       "model_id": "",
       "version_major": 2,
       "version_minor": 0
      },
      "text/plain": [
       "HBox(children=(IntProgress(value=0, description='Equilibrate sweep', max=1000, style=ProgressStyle(description…"
      ]
     },
     "metadata": {},
     "output_type": "display_data"
    },
    {
     "data": {
      "application/vnd.jupyter.widget-view+json": {
       "model_id": "",
       "version_major": 2,
       "version_minor": 0
      },
      "text/plain": [
       "HBox(children=(IntProgress(value=0, description='Measurement sweep', max=10000, style=ProgressStyle(descriptio…"
      ]
     },
     "metadata": {},
     "output_type": "display_data"
    },
    {
     "data": {
      "application/vnd.jupyter.widget-view+json": {
       "model_id": "",
       "version_major": 2,
       "version_minor": 0
      },
      "text/plain": [
       "HBox(children=(IntProgress(value=0, description='Equilibrate sweep', max=1000, style=ProgressStyle(description…"
      ]
     },
     "metadata": {},
     "output_type": "display_data"
    },
    {
     "data": {
      "application/vnd.jupyter.widget-view+json": {
       "model_id": "",
       "version_major": 2,
       "version_minor": 0
      },
      "text/plain": [
       "HBox(children=(IntProgress(value=0, description='Measurement sweep', max=10000, style=ProgressStyle(descriptio…"
      ]
     },
     "metadata": {},
     "output_type": "display_data"
    },
    {
     "data": {
      "application/vnd.jupyter.widget-view+json": {
       "model_id": "",
       "version_major": 2,
       "version_minor": 0
      },
      "text/plain": [
       "HBox(children=(IntProgress(value=0, description='Equilibrate sweep', max=1000, style=ProgressStyle(description…"
      ]
     },
     "metadata": {},
     "output_type": "display_data"
    },
    {
     "data": {
      "application/vnd.jupyter.widget-view+json": {
       "model_id": "",
       "version_major": 2,
       "version_minor": 0
      },
      "text/plain": [
       "HBox(children=(IntProgress(value=0, description='Measurement sweep', max=10000, style=ProgressStyle(descriptio…"
      ]
     },
     "metadata": {},
     "output_type": "display_data"
    },
    {
     "data": {
      "application/vnd.jupyter.widget-view+json": {
       "model_id": "",
       "version_major": 2,
       "version_minor": 0
      },
      "text/plain": [
       "HBox(children=(IntProgress(value=0, description='Equilibrate sweep', max=1000, style=ProgressStyle(description…"
      ]
     },
     "metadata": {},
     "output_type": "display_data"
    },
    {
     "data": {
      "application/vnd.jupyter.widget-view+json": {
       "model_id": "",
       "version_major": 2,
       "version_minor": 0
      },
      "text/plain": [
       "HBox(children=(IntProgress(value=0, description='Measurement sweep', max=10000, style=ProgressStyle(descriptio…"
      ]
     },
     "metadata": {},
     "output_type": "display_data"
    },
    {
     "name": "stdout",
     "output_type": "stream",
     "text": [
      "\n"
     ]
    },
    {
     "data": {
      "application/javascript": [
       "/* Put everything inside the global mpl namespace */\n",
       "window.mpl = {};\n",
       "\n",
       "\n",
       "mpl.get_websocket_type = function() {\n",
       "    if (typeof(WebSocket) !== 'undefined') {\n",
       "        return WebSocket;\n",
       "    } else if (typeof(MozWebSocket) !== 'undefined') {\n",
       "        return MozWebSocket;\n",
       "    } else {\n",
       "        alert('Your browser does not have WebSocket support.' +\n",
       "              'Please try Chrome, Safari or Firefox ≥ 6. ' +\n",
       "              'Firefox 4 and 5 are also supported but you ' +\n",
       "              'have to enable WebSockets in about:config.');\n",
       "    };\n",
       "}\n",
       "\n",
       "mpl.figure = function(figure_id, websocket, ondownload, parent_element) {\n",
       "    this.id = figure_id;\n",
       "\n",
       "    this.ws = websocket;\n",
       "\n",
       "    this.supports_binary = (this.ws.binaryType != undefined);\n",
       "\n",
       "    if (!this.supports_binary) {\n",
       "        var warnings = document.getElementById(\"mpl-warnings\");\n",
       "        if (warnings) {\n",
       "            warnings.style.display = 'block';\n",
       "            warnings.textContent = (\n",
       "                \"This browser does not support binary websocket messages. \" +\n",
       "                    \"Performance may be slow.\");\n",
       "        }\n",
       "    }\n",
       "\n",
       "    this.imageObj = new Image();\n",
       "\n",
       "    this.context = undefined;\n",
       "    this.message = undefined;\n",
       "    this.canvas = undefined;\n",
       "    this.rubberband_canvas = undefined;\n",
       "    this.rubberband_context = undefined;\n",
       "    this.format_dropdown = undefined;\n",
       "\n",
       "    this.image_mode = 'full';\n",
       "\n",
       "    this.root = $('<div/>');\n",
       "    this._root_extra_style(this.root)\n",
       "    this.root.attr('style', 'display: inline-block');\n",
       "\n",
       "    $(parent_element).append(this.root);\n",
       "\n",
       "    this._init_header(this);\n",
       "    this._init_canvas(this);\n",
       "    this._init_toolbar(this);\n",
       "\n",
       "    var fig = this;\n",
       "\n",
       "    this.waiting = false;\n",
       "\n",
       "    this.ws.onopen =  function () {\n",
       "            fig.send_message(\"supports_binary\", {value: fig.supports_binary});\n",
       "            fig.send_message(\"send_image_mode\", {});\n",
       "            if (mpl.ratio != 1) {\n",
       "                fig.send_message(\"set_dpi_ratio\", {'dpi_ratio': mpl.ratio});\n",
       "            }\n",
       "            fig.send_message(\"refresh\", {});\n",
       "        }\n",
       "\n",
       "    this.imageObj.onload = function() {\n",
       "            if (fig.image_mode == 'full') {\n",
       "                // Full images could contain transparency (where diff images\n",
       "                // almost always do), so we need to clear the canvas so that\n",
       "                // there is no ghosting.\n",
       "                fig.context.clearRect(0, 0, fig.canvas.width, fig.canvas.height);\n",
       "            }\n",
       "            fig.context.drawImage(fig.imageObj, 0, 0);\n",
       "        };\n",
       "\n",
       "    this.imageObj.onunload = function() {\n",
       "        fig.ws.close();\n",
       "    }\n",
       "\n",
       "    this.ws.onmessage = this._make_on_message_function(this);\n",
       "\n",
       "    this.ondownload = ondownload;\n",
       "}\n",
       "\n",
       "mpl.figure.prototype._init_header = function() {\n",
       "    var titlebar = $(\n",
       "        '<div class=\"ui-dialog-titlebar ui-widget-header ui-corner-all ' +\n",
       "        'ui-helper-clearfix\"/>');\n",
       "    var titletext = $(\n",
       "        '<div class=\"ui-dialog-title\" style=\"width: 100%; ' +\n",
       "        'text-align: center; padding: 3px;\"/>');\n",
       "    titlebar.append(titletext)\n",
       "    this.root.append(titlebar);\n",
       "    this.header = titletext[0];\n",
       "}\n",
       "\n",
       "\n",
       "\n",
       "mpl.figure.prototype._canvas_extra_style = function(canvas_div) {\n",
       "\n",
       "}\n",
       "\n",
       "\n",
       "mpl.figure.prototype._root_extra_style = function(canvas_div) {\n",
       "\n",
       "}\n",
       "\n",
       "mpl.figure.prototype._init_canvas = function() {\n",
       "    var fig = this;\n",
       "\n",
       "    var canvas_div = $('<div/>');\n",
       "\n",
       "    canvas_div.attr('style', 'position: relative; clear: both; outline: 0');\n",
       "\n",
       "    function canvas_keyboard_event(event) {\n",
       "        return fig.key_event(event, event['data']);\n",
       "    }\n",
       "\n",
       "    canvas_div.keydown('key_press', canvas_keyboard_event);\n",
       "    canvas_div.keyup('key_release', canvas_keyboard_event);\n",
       "    this.canvas_div = canvas_div\n",
       "    this._canvas_extra_style(canvas_div)\n",
       "    this.root.append(canvas_div);\n",
       "\n",
       "    var canvas = $('<canvas/>');\n",
       "    canvas.addClass('mpl-canvas');\n",
       "    canvas.attr('style', \"left: 0; top: 0; z-index: 0; outline: 0\")\n",
       "\n",
       "    this.canvas = canvas[0];\n",
       "    this.context = canvas[0].getContext(\"2d\");\n",
       "\n",
       "    var backingStore = this.context.backingStorePixelRatio ||\n",
       "\tthis.context.webkitBackingStorePixelRatio ||\n",
       "\tthis.context.mozBackingStorePixelRatio ||\n",
       "\tthis.context.msBackingStorePixelRatio ||\n",
       "\tthis.context.oBackingStorePixelRatio ||\n",
       "\tthis.context.backingStorePixelRatio || 1;\n",
       "\n",
       "    mpl.ratio = (window.devicePixelRatio || 1) / backingStore;\n",
       "\n",
       "    var rubberband = $('<canvas/>');\n",
       "    rubberband.attr('style', \"position: absolute; left: 0; top: 0; z-index: 1;\")\n",
       "\n",
       "    var pass_mouse_events = true;\n",
       "\n",
       "    canvas_div.resizable({\n",
       "        start: function(event, ui) {\n",
       "            pass_mouse_events = false;\n",
       "        },\n",
       "        resize: function(event, ui) {\n",
       "            fig.request_resize(ui.size.width, ui.size.height);\n",
       "        },\n",
       "        stop: function(event, ui) {\n",
       "            pass_mouse_events = true;\n",
       "            fig.request_resize(ui.size.width, ui.size.height);\n",
       "        },\n",
       "    });\n",
       "\n",
       "    function mouse_event_fn(event) {\n",
       "        if (pass_mouse_events)\n",
       "            return fig.mouse_event(event, event['data']);\n",
       "    }\n",
       "\n",
       "    rubberband.mousedown('button_press', mouse_event_fn);\n",
       "    rubberband.mouseup('button_release', mouse_event_fn);\n",
       "    // Throttle sequential mouse events to 1 every 20ms.\n",
       "    rubberband.mousemove('motion_notify', mouse_event_fn);\n",
       "\n",
       "    rubberband.mouseenter('figure_enter', mouse_event_fn);\n",
       "    rubberband.mouseleave('figure_leave', mouse_event_fn);\n",
       "\n",
       "    canvas_div.on(\"wheel\", function (event) {\n",
       "        event = event.originalEvent;\n",
       "        event['data'] = 'scroll'\n",
       "        if (event.deltaY < 0) {\n",
       "            event.step = 1;\n",
       "        } else {\n",
       "            event.step = -1;\n",
       "        }\n",
       "        mouse_event_fn(event);\n",
       "    });\n",
       "\n",
       "    canvas_div.append(canvas);\n",
       "    canvas_div.append(rubberband);\n",
       "\n",
       "    this.rubberband = rubberband;\n",
       "    this.rubberband_canvas = rubberband[0];\n",
       "    this.rubberband_context = rubberband[0].getContext(\"2d\");\n",
       "    this.rubberband_context.strokeStyle = \"#000000\";\n",
       "\n",
       "    this._resize_canvas = function(width, height) {\n",
       "        // Keep the size of the canvas, canvas container, and rubber band\n",
       "        // canvas in synch.\n",
       "        canvas_div.css('width', width)\n",
       "        canvas_div.css('height', height)\n",
       "\n",
       "        canvas.attr('width', width * mpl.ratio);\n",
       "        canvas.attr('height', height * mpl.ratio);\n",
       "        canvas.attr('style', 'width: ' + width + 'px; height: ' + height + 'px;');\n",
       "\n",
       "        rubberband.attr('width', width);\n",
       "        rubberband.attr('height', height);\n",
       "    }\n",
       "\n",
       "    // Set the figure to an initial 600x600px, this will subsequently be updated\n",
       "    // upon first draw.\n",
       "    this._resize_canvas(600, 600);\n",
       "\n",
       "    // Disable right mouse context menu.\n",
       "    $(this.rubberband_canvas).bind(\"contextmenu\",function(e){\n",
       "        return false;\n",
       "    });\n",
       "\n",
       "    function set_focus () {\n",
       "        canvas.focus();\n",
       "        canvas_div.focus();\n",
       "    }\n",
       "\n",
       "    window.setTimeout(set_focus, 100);\n",
       "}\n",
       "\n",
       "mpl.figure.prototype._init_toolbar = function() {\n",
       "    var fig = this;\n",
       "\n",
       "    var nav_element = $('<div/>')\n",
       "    nav_element.attr('style', 'width: 100%');\n",
       "    this.root.append(nav_element);\n",
       "\n",
       "    // Define a callback function for later on.\n",
       "    function toolbar_event(event) {\n",
       "        return fig.toolbar_button_onclick(event['data']);\n",
       "    }\n",
       "    function toolbar_mouse_event(event) {\n",
       "        return fig.toolbar_button_onmouseover(event['data']);\n",
       "    }\n",
       "\n",
       "    for(var toolbar_ind in mpl.toolbar_items) {\n",
       "        var name = mpl.toolbar_items[toolbar_ind][0];\n",
       "        var tooltip = mpl.toolbar_items[toolbar_ind][1];\n",
       "        var image = mpl.toolbar_items[toolbar_ind][2];\n",
       "        var method_name = mpl.toolbar_items[toolbar_ind][3];\n",
       "\n",
       "        if (!name) {\n",
       "            // put a spacer in here.\n",
       "            continue;\n",
       "        }\n",
       "        var button = $('<button/>');\n",
       "        button.addClass('ui-button ui-widget ui-state-default ui-corner-all ' +\n",
       "                        'ui-button-icon-only');\n",
       "        button.attr('role', 'button');\n",
       "        button.attr('aria-disabled', 'false');\n",
       "        button.click(method_name, toolbar_event);\n",
       "        button.mouseover(tooltip, toolbar_mouse_event);\n",
       "\n",
       "        var icon_img = $('<span/>');\n",
       "        icon_img.addClass('ui-button-icon-primary ui-icon');\n",
       "        icon_img.addClass(image);\n",
       "        icon_img.addClass('ui-corner-all');\n",
       "\n",
       "        var tooltip_span = $('<span/>');\n",
       "        tooltip_span.addClass('ui-button-text');\n",
       "        tooltip_span.html(tooltip);\n",
       "\n",
       "        button.append(icon_img);\n",
       "        button.append(tooltip_span);\n",
       "\n",
       "        nav_element.append(button);\n",
       "    }\n",
       "\n",
       "    var fmt_picker_span = $('<span/>');\n",
       "\n",
       "    var fmt_picker = $('<select/>');\n",
       "    fmt_picker.addClass('mpl-toolbar-option ui-widget ui-widget-content');\n",
       "    fmt_picker_span.append(fmt_picker);\n",
       "    nav_element.append(fmt_picker_span);\n",
       "    this.format_dropdown = fmt_picker[0];\n",
       "\n",
       "    for (var ind in mpl.extensions) {\n",
       "        var fmt = mpl.extensions[ind];\n",
       "        var option = $(\n",
       "            '<option/>', {selected: fmt === mpl.default_extension}).html(fmt);\n",
       "        fmt_picker.append(option)\n",
       "    }\n",
       "\n",
       "    // Add hover states to the ui-buttons\n",
       "    $( \".ui-button\" ).hover(\n",
       "        function() { $(this).addClass(\"ui-state-hover\");},\n",
       "        function() { $(this).removeClass(\"ui-state-hover\");}\n",
       "    );\n",
       "\n",
       "    var status_bar = $('<span class=\"mpl-message\"/>');\n",
       "    nav_element.append(status_bar);\n",
       "    this.message = status_bar[0];\n",
       "}\n",
       "\n",
       "mpl.figure.prototype.request_resize = function(x_pixels, y_pixels) {\n",
       "    // Request matplotlib to resize the figure. Matplotlib will then trigger a resize in the client,\n",
       "    // which will in turn request a refresh of the image.\n",
       "    this.send_message('resize', {'width': x_pixels, 'height': y_pixels});\n",
       "}\n",
       "\n",
       "mpl.figure.prototype.send_message = function(type, properties) {\n",
       "    properties['type'] = type;\n",
       "    properties['figure_id'] = this.id;\n",
       "    this.ws.send(JSON.stringify(properties));\n",
       "}\n",
       "\n",
       "mpl.figure.prototype.send_draw_message = function() {\n",
       "    if (!this.waiting) {\n",
       "        this.waiting = true;\n",
       "        this.ws.send(JSON.stringify({type: \"draw\", figure_id: this.id}));\n",
       "    }\n",
       "}\n",
       "\n",
       "\n",
       "mpl.figure.prototype.handle_save = function(fig, msg) {\n",
       "    var format_dropdown = fig.format_dropdown;\n",
       "    var format = format_dropdown.options[format_dropdown.selectedIndex].value;\n",
       "    fig.ondownload(fig, format);\n",
       "}\n",
       "\n",
       "\n",
       "mpl.figure.prototype.handle_resize = function(fig, msg) {\n",
       "    var size = msg['size'];\n",
       "    if (size[0] != fig.canvas.width || size[1] != fig.canvas.height) {\n",
       "        fig._resize_canvas(size[0], size[1]);\n",
       "        fig.send_message(\"refresh\", {});\n",
       "    };\n",
       "}\n",
       "\n",
       "mpl.figure.prototype.handle_rubberband = function(fig, msg) {\n",
       "    var x0 = msg['x0'] / mpl.ratio;\n",
       "    var y0 = (fig.canvas.height - msg['y0']) / mpl.ratio;\n",
       "    var x1 = msg['x1'] / mpl.ratio;\n",
       "    var y1 = (fig.canvas.height - msg['y1']) / mpl.ratio;\n",
       "    x0 = Math.floor(x0) + 0.5;\n",
       "    y0 = Math.floor(y0) + 0.5;\n",
       "    x1 = Math.floor(x1) + 0.5;\n",
       "    y1 = Math.floor(y1) + 0.5;\n",
       "    var min_x = Math.min(x0, x1);\n",
       "    var min_y = Math.min(y0, y1);\n",
       "    var width = Math.abs(x1 - x0);\n",
       "    var height = Math.abs(y1 - y0);\n",
       "\n",
       "    fig.rubberband_context.clearRect(\n",
       "        0, 0, fig.canvas.width, fig.canvas.height);\n",
       "\n",
       "    fig.rubberband_context.strokeRect(min_x, min_y, width, height);\n",
       "}\n",
       "\n",
       "mpl.figure.prototype.handle_figure_label = function(fig, msg) {\n",
       "    // Updates the figure title.\n",
       "    fig.header.textContent = msg['label'];\n",
       "}\n",
       "\n",
       "mpl.figure.prototype.handle_cursor = function(fig, msg) {\n",
       "    var cursor = msg['cursor'];\n",
       "    switch(cursor)\n",
       "    {\n",
       "    case 0:\n",
       "        cursor = 'pointer';\n",
       "        break;\n",
       "    case 1:\n",
       "        cursor = 'default';\n",
       "        break;\n",
       "    case 2:\n",
       "        cursor = 'crosshair';\n",
       "        break;\n",
       "    case 3:\n",
       "        cursor = 'move';\n",
       "        break;\n",
       "    }\n",
       "    fig.rubberband_canvas.style.cursor = cursor;\n",
       "}\n",
       "\n",
       "mpl.figure.prototype.handle_message = function(fig, msg) {\n",
       "    fig.message.textContent = msg['message'];\n",
       "}\n",
       "\n",
       "mpl.figure.prototype.handle_draw = function(fig, msg) {\n",
       "    // Request the server to send over a new figure.\n",
       "    fig.send_draw_message();\n",
       "}\n",
       "\n",
       "mpl.figure.prototype.handle_image_mode = function(fig, msg) {\n",
       "    fig.image_mode = msg['mode'];\n",
       "}\n",
       "\n",
       "mpl.figure.prototype.updated_canvas_event = function() {\n",
       "    // Called whenever the canvas gets updated.\n",
       "    this.send_message(\"ack\", {});\n",
       "}\n",
       "\n",
       "// A function to construct a web socket function for onmessage handling.\n",
       "// Called in the figure constructor.\n",
       "mpl.figure.prototype._make_on_message_function = function(fig) {\n",
       "    return function socket_on_message(evt) {\n",
       "        if (evt.data instanceof Blob) {\n",
       "            /* FIXME: We get \"Resource interpreted as Image but\n",
       "             * transferred with MIME type text/plain:\" errors on\n",
       "             * Chrome.  But how to set the MIME type?  It doesn't seem\n",
       "             * to be part of the websocket stream */\n",
       "            evt.data.type = \"image/png\";\n",
       "\n",
       "            /* Free the memory for the previous frames */\n",
       "            if (fig.imageObj.src) {\n",
       "                (window.URL || window.webkitURL).revokeObjectURL(\n",
       "                    fig.imageObj.src);\n",
       "            }\n",
       "\n",
       "            fig.imageObj.src = (window.URL || window.webkitURL).createObjectURL(\n",
       "                evt.data);\n",
       "            fig.updated_canvas_event();\n",
       "            fig.waiting = false;\n",
       "            return;\n",
       "        }\n",
       "        else if (typeof evt.data === 'string' && evt.data.slice(0, 21) == \"data:image/png;base64\") {\n",
       "            fig.imageObj.src = evt.data;\n",
       "            fig.updated_canvas_event();\n",
       "            fig.waiting = false;\n",
       "            return;\n",
       "        }\n",
       "\n",
       "        var msg = JSON.parse(evt.data);\n",
       "        var msg_type = msg['type'];\n",
       "\n",
       "        // Call the  \"handle_{type}\" callback, which takes\n",
       "        // the figure and JSON message as its only arguments.\n",
       "        try {\n",
       "            var callback = fig[\"handle_\" + msg_type];\n",
       "        } catch (e) {\n",
       "            console.log(\"No handler for the '\" + msg_type + \"' message type: \", msg);\n",
       "            return;\n",
       "        }\n",
       "\n",
       "        if (callback) {\n",
       "            try {\n",
       "                // console.log(\"Handling '\" + msg_type + \"' message: \", msg);\n",
       "                callback(fig, msg);\n",
       "            } catch (e) {\n",
       "                console.log(\"Exception inside the 'handler_\" + msg_type + \"' callback:\", e, e.stack, msg);\n",
       "            }\n",
       "        }\n",
       "    };\n",
       "}\n",
       "\n",
       "// from http://stackoverflow.com/questions/1114465/getting-mouse-location-in-canvas\n",
       "mpl.findpos = function(e) {\n",
       "    //this section is from http://www.quirksmode.org/js/events_properties.html\n",
       "    var targ;\n",
       "    if (!e)\n",
       "        e = window.event;\n",
       "    if (e.target)\n",
       "        targ = e.target;\n",
       "    else if (e.srcElement)\n",
       "        targ = e.srcElement;\n",
       "    if (targ.nodeType == 3) // defeat Safari bug\n",
       "        targ = targ.parentNode;\n",
       "\n",
       "    // jQuery normalizes the pageX and pageY\n",
       "    // pageX,Y are the mouse positions relative to the document\n",
       "    // offset() returns the position of the element relative to the document\n",
       "    var x = e.pageX - $(targ).offset().left;\n",
       "    var y = e.pageY - $(targ).offset().top;\n",
       "\n",
       "    return {\"x\": x, \"y\": y};\n",
       "};\n",
       "\n",
       "/*\n",
       " * return a copy of an object with only non-object keys\n",
       " * we need this to avoid circular references\n",
       " * http://stackoverflow.com/a/24161582/3208463\n",
       " */\n",
       "function simpleKeys (original) {\n",
       "  return Object.keys(original).reduce(function (obj, key) {\n",
       "    if (typeof original[key] !== 'object')\n",
       "        obj[key] = original[key]\n",
       "    return obj;\n",
       "  }, {});\n",
       "}\n",
       "\n",
       "mpl.figure.prototype.mouse_event = function(event, name) {\n",
       "    var canvas_pos = mpl.findpos(event)\n",
       "\n",
       "    if (name === 'button_press')\n",
       "    {\n",
       "        this.canvas.focus();\n",
       "        this.canvas_div.focus();\n",
       "    }\n",
       "\n",
       "    var x = canvas_pos.x * mpl.ratio;\n",
       "    var y = canvas_pos.y * mpl.ratio;\n",
       "\n",
       "    this.send_message(name, {x: x, y: y, button: event.button,\n",
       "                             step: event.step,\n",
       "                             guiEvent: simpleKeys(event)});\n",
       "\n",
       "    /* This prevents the web browser from automatically changing to\n",
       "     * the text insertion cursor when the button is pressed.  We want\n",
       "     * to control all of the cursor setting manually through the\n",
       "     * 'cursor' event from matplotlib */\n",
       "    event.preventDefault();\n",
       "    return false;\n",
       "}\n",
       "\n",
       "mpl.figure.prototype._key_event_extra = function(event, name) {\n",
       "    // Handle any extra behaviour associated with a key event\n",
       "}\n",
       "\n",
       "mpl.figure.prototype.key_event = function(event, name) {\n",
       "\n",
       "    // Prevent repeat events\n",
       "    if (name == 'key_press')\n",
       "    {\n",
       "        if (event.which === this._key)\n",
       "            return;\n",
       "        else\n",
       "            this._key = event.which;\n",
       "    }\n",
       "    if (name == 'key_release')\n",
       "        this._key = null;\n",
       "\n",
       "    var value = '';\n",
       "    if (event.ctrlKey && event.which != 17)\n",
       "        value += \"ctrl+\";\n",
       "    if (event.altKey && event.which != 18)\n",
       "        value += \"alt+\";\n",
       "    if (event.shiftKey && event.which != 16)\n",
       "        value += \"shift+\";\n",
       "\n",
       "    value += 'k';\n",
       "    value += event.which.toString();\n",
       "\n",
       "    this._key_event_extra(event, name);\n",
       "\n",
       "    this.send_message(name, {key: value,\n",
       "                             guiEvent: simpleKeys(event)});\n",
       "    return false;\n",
       "}\n",
       "\n",
       "mpl.figure.prototype.toolbar_button_onclick = function(name) {\n",
       "    if (name == 'download') {\n",
       "        this.handle_save(this, null);\n",
       "    } else {\n",
       "        this.send_message(\"toolbar_button\", {name: name});\n",
       "    }\n",
       "};\n",
       "\n",
       "mpl.figure.prototype.toolbar_button_onmouseover = function(tooltip) {\n",
       "    this.message.textContent = tooltip;\n",
       "};\n",
       "mpl.toolbar_items = [[\"Home\", \"Reset original view\", \"fa fa-home icon-home\", \"home\"], [\"Back\", \"Back to previous view\", \"fa fa-arrow-left icon-arrow-left\", \"back\"], [\"Forward\", \"Forward to next view\", \"fa fa-arrow-right icon-arrow-right\", \"forward\"], [\"\", \"\", \"\", \"\"], [\"Pan\", \"Pan axes with left mouse, zoom with right\", \"fa fa-arrows icon-move\", \"pan\"], [\"Zoom\", \"Zoom to rectangle\", \"fa fa-square-o icon-check-empty\", \"zoom\"], [\"\", \"\", \"\", \"\"], [\"Download\", \"Download plot\", \"fa fa-floppy-o icon-save\", \"download\"]];\n",
       "\n",
       "mpl.extensions = [\"eps\", \"jpeg\", \"pdf\", \"png\", \"ps\", \"raw\", \"svg\", \"tif\"];\n",
       "\n",
       "mpl.default_extension = \"png\";var comm_websocket_adapter = function(comm) {\n",
       "    // Create a \"websocket\"-like object which calls the given IPython comm\n",
       "    // object with the appropriate methods. Currently this is a non binary\n",
       "    // socket, so there is still some room for performance tuning.\n",
       "    var ws = {};\n",
       "\n",
       "    ws.close = function() {\n",
       "        comm.close()\n",
       "    };\n",
       "    ws.send = function(m) {\n",
       "        //console.log('sending', m);\n",
       "        comm.send(m);\n",
       "    };\n",
       "    // Register the callback with on_msg.\n",
       "    comm.on_msg(function(msg) {\n",
       "        //console.log('receiving', msg['content']['data'], msg);\n",
       "        // Pass the mpl event to the overridden (by mpl) onmessage function.\n",
       "        ws.onmessage(msg['content']['data'])\n",
       "    });\n",
       "    return ws;\n",
       "}\n",
       "\n",
       "mpl.mpl_figure_comm = function(comm, msg) {\n",
       "    // This is the function which gets called when the mpl process\n",
       "    // starts-up an IPython Comm through the \"matplotlib\" channel.\n",
       "\n",
       "    var id = msg.content.data.id;\n",
       "    // Get hold of the div created by the display call when the Comm\n",
       "    // socket was opened in Python.\n",
       "    var element = $(\"#\" + id);\n",
       "    var ws_proxy = comm_websocket_adapter(comm)\n",
       "\n",
       "    function ondownload(figure, format) {\n",
       "        window.open(figure.imageObj.src);\n",
       "    }\n",
       "\n",
       "    var fig = new mpl.figure(id, ws_proxy,\n",
       "                           ondownload,\n",
       "                           element.get(0));\n",
       "\n",
       "    // Call onopen now - mpl needs it, as it is assuming we've passed it a real\n",
       "    // web socket which is closed, not our websocket->open comm proxy.\n",
       "    ws_proxy.onopen();\n",
       "\n",
       "    fig.parent_element = element.get(0);\n",
       "    fig.cell_info = mpl.find_output_cell(\"<div id='\" + id + \"'></div>\");\n",
       "    if (!fig.cell_info) {\n",
       "        console.error(\"Failed to find cell for figure\", id, fig);\n",
       "        return;\n",
       "    }\n",
       "\n",
       "    var output_index = fig.cell_info[2]\n",
       "    var cell = fig.cell_info[0];\n",
       "\n",
       "};\n",
       "\n",
       "mpl.figure.prototype.handle_close = function(fig, msg) {\n",
       "    var width = fig.canvas.width/mpl.ratio\n",
       "    fig.root.unbind('remove')\n",
       "\n",
       "    // Update the output cell to use the data from the current canvas.\n",
       "    fig.push_to_output();\n",
       "    var dataURL = fig.canvas.toDataURL();\n",
       "    // Re-enable the keyboard manager in IPython - without this line, in FF,\n",
       "    // the notebook keyboard shortcuts fail.\n",
       "    IPython.keyboard_manager.enable()\n",
       "    $(fig.parent_element).html('<img src=\"' + dataURL + '\" width=\"' + width + '\">');\n",
       "    fig.close_ws(fig, msg);\n",
       "}\n",
       "\n",
       "mpl.figure.prototype.close_ws = function(fig, msg){\n",
       "    fig.send_message('closing', msg);\n",
       "    // fig.ws.close()\n",
       "}\n",
       "\n",
       "mpl.figure.prototype.push_to_output = function(remove_interactive) {\n",
       "    // Turn the data on the canvas into data in the output cell.\n",
       "    var width = this.canvas.width/mpl.ratio\n",
       "    var dataURL = this.canvas.toDataURL();\n",
       "    this.cell_info[1]['text/html'] = '<img src=\"' + dataURL + '\" width=\"' + width + '\">';\n",
       "}\n",
       "\n",
       "mpl.figure.prototype.updated_canvas_event = function() {\n",
       "    // Tell IPython that the notebook contents must change.\n",
       "    IPython.notebook.set_dirty(true);\n",
       "    this.send_message(\"ack\", {});\n",
       "    var fig = this;\n",
       "    // Wait a second, then push the new image to the DOM so\n",
       "    // that it is saved nicely (might be nice to debounce this).\n",
       "    setTimeout(function () { fig.push_to_output() }, 1000);\n",
       "}\n",
       "\n",
       "mpl.figure.prototype._init_toolbar = function() {\n",
       "    var fig = this;\n",
       "\n",
       "    var nav_element = $('<div/>')\n",
       "    nav_element.attr('style', 'width: 100%');\n",
       "    this.root.append(nav_element);\n",
       "\n",
       "    // Define a callback function for later on.\n",
       "    function toolbar_event(event) {\n",
       "        return fig.toolbar_button_onclick(event['data']);\n",
       "    }\n",
       "    function toolbar_mouse_event(event) {\n",
       "        return fig.toolbar_button_onmouseover(event['data']);\n",
       "    }\n",
       "\n",
       "    for(var toolbar_ind in mpl.toolbar_items){\n",
       "        var name = mpl.toolbar_items[toolbar_ind][0];\n",
       "        var tooltip = mpl.toolbar_items[toolbar_ind][1];\n",
       "        var image = mpl.toolbar_items[toolbar_ind][2];\n",
       "        var method_name = mpl.toolbar_items[toolbar_ind][3];\n",
       "\n",
       "        if (!name) { continue; };\n",
       "\n",
       "        var button = $('<button class=\"btn btn-default\" href=\"#\" title=\"' + name + '\"><i class=\"fa ' + image + ' fa-lg\"></i></button>');\n",
       "        button.click(method_name, toolbar_event);\n",
       "        button.mouseover(tooltip, toolbar_mouse_event);\n",
       "        nav_element.append(button);\n",
       "    }\n",
       "\n",
       "    // Add the status bar.\n",
       "    var status_bar = $('<span class=\"mpl-message\" style=\"text-align:right; float: right;\"/>');\n",
       "    nav_element.append(status_bar);\n",
       "    this.message = status_bar[0];\n",
       "\n",
       "    // Add the close button to the window.\n",
       "    var buttongrp = $('<div class=\"btn-group inline pull-right\"></div>');\n",
       "    var button = $('<button class=\"btn btn-mini btn-primary\" href=\"#\" title=\"Stop Interaction\"><i class=\"fa fa-power-off icon-remove icon-large\"></i></button>');\n",
       "    button.click(function (evt) { fig.handle_close(fig, {}); } );\n",
       "    button.mouseover('Stop Interaction', toolbar_mouse_event);\n",
       "    buttongrp.append(button);\n",
       "    var titlebar = this.root.find($('.ui-dialog-titlebar'));\n",
       "    titlebar.prepend(buttongrp);\n",
       "}\n",
       "\n",
       "mpl.figure.prototype._root_extra_style = function(el){\n",
       "    var fig = this\n",
       "    el.on(\"remove\", function(){\n",
       "\tfig.close_ws(fig, {});\n",
       "    });\n",
       "}\n",
       "\n",
       "mpl.figure.prototype._canvas_extra_style = function(el){\n",
       "    // this is important to make the div 'focusable\n",
       "    el.attr('tabindex', 0)\n",
       "    // reach out to IPython and tell the keyboard manager to turn it's self\n",
       "    // off when our div gets focus\n",
       "\n",
       "    // location in version 3\n",
       "    if (IPython.notebook.keyboard_manager) {\n",
       "        IPython.notebook.keyboard_manager.register_events(el);\n",
       "    }\n",
       "    else {\n",
       "        // location in version 2\n",
       "        IPython.keyboard_manager.register_events(el);\n",
       "    }\n",
       "\n",
       "}\n",
       "\n",
       "mpl.figure.prototype._key_event_extra = function(event, name) {\n",
       "    var manager = IPython.notebook.keyboard_manager;\n",
       "    if (!manager)\n",
       "        manager = IPython.keyboard_manager;\n",
       "\n",
       "    // Check for shift+enter\n",
       "    if (event.shiftKey && event.which == 13) {\n",
       "        this.canvas_div.blur();\n",
       "        event.shiftKey = false;\n",
       "        // Send a \"J\" for go to next cell\n",
       "        event.which = 74;\n",
       "        event.keyCode = 74;\n",
       "        manager.command_mode();\n",
       "        manager.handle_keydown(event);\n",
       "    }\n",
       "}\n",
       "\n",
       "mpl.figure.prototype.handle_save = function(fig, msg) {\n",
       "    fig.ondownload(fig, null);\n",
       "}\n",
       "\n",
       "\n",
       "mpl.find_output_cell = function(html_output) {\n",
       "    // Return the cell and output element which can be found *uniquely* in the notebook.\n",
       "    // Note - this is a bit hacky, but it is done because the \"notebook_saving.Notebook\"\n",
       "    // IPython event is triggered only after the cells have been serialised, which for\n",
       "    // our purposes (turning an active figure into a static one), is too late.\n",
       "    var cells = IPython.notebook.get_cells();\n",
       "    var ncells = cells.length;\n",
       "    for (var i=0; i<ncells; i++) {\n",
       "        var cell = cells[i];\n",
       "        if (cell.cell_type === 'code'){\n",
       "            for (var j=0; j<cell.output_area.outputs.length; j++) {\n",
       "                var data = cell.output_area.outputs[j];\n",
       "                if (data.data) {\n",
       "                    // IPython >= 3 moved mimebundle to data attribute of output\n",
       "                    data = data.data;\n",
       "                }\n",
       "                if (data['text/html'] == html_output) {\n",
       "                    return [cell, data, j];\n",
       "                }\n",
       "            }\n",
       "        }\n",
       "    }\n",
       "}\n",
       "\n",
       "// Register the function which deals with the matplotlib target/channel.\n",
       "// The kernel may be null if the page has been refreshed.\n",
       "if (IPython.notebook.kernel != null) {\n",
       "    IPython.notebook.kernel.comm_manager.register_target('matplotlib', mpl.mpl_figure_comm);\n",
       "}\n"
      ],
      "text/plain": [
       "<IPython.core.display.Javascript object>"
      ]
     },
     "metadata": {},
     "output_type": "display_data"
    },
    {
     "data": {
      "text/html": [
       "<img src=\"data:image/png;base64,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\" width=\"638.888905813665\">"
      ],
      "text/plain": [
       "<IPython.core.display.HTML object>"
      ]
     },
     "metadata": {},
     "output_type": "display_data"
    }
   ],
   "source": [
    "%matplotlib notebook\n",
    "ising_model.analyse()"
   ]
  }
 ],
 "metadata": {
  "kernelspec": {
   "display_name": "Python 3",
   "language": "python",
   "name": "python3"
  },
  "language_info": {
   "codemirror_mode": {
    "name": "ipython",
    "version": 3
   },
   "file_extension": ".py",
   "mimetype": "text/x-python",
   "name": "python",
   "nbconvert_exporter": "python",
   "pygments_lexer": "ipython3",
   "version": "3.6.7"
  }
 },
 "nbformat": 4,
 "nbformat_minor": 2
}
